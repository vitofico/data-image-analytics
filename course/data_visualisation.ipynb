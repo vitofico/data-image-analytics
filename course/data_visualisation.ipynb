{
 "cells": [
  {
   "cell_type": "markdown",
   "metadata": {},
   "source": [
    "# Data Visualisation with Python"
   ]
  },
  {
   "cell_type": "code",
   "execution_count": null,
   "metadata": {},
   "outputs": [],
   "source": [
    "import pandas as pd\n",
    "import numpy as np\n",
    "\n",
    "# Let's create a sample DataFrame\n",
    "np.random.seed(0)\n",
    "dataframe = pd.DataFrame({\n",
    "    'age': np.random.randint(20, 60, 100),\n",
    "    'income': np.random.randint(30000, 80000, 100),\n",
    "    'genre': np.random.choice(['Action', 'Comedy', 'Drama', 'Thriller'], 100)\n",
    "})\n",
    "\n",
    "# Let's see the first 5 rows\n",
    "display(dataframe.head())\n"
   ]
  },
  {
   "cell_type": "code",
   "execution_count": null,
   "metadata": {},
   "outputs": [],
   "source": [
    "# Import the required libraries for visualisation\n",
    "\n",
    "import matplotlib.pyplot as plt\n",
    "import seaborn as sns"
   ]
  },
  {
   "cell_type": "markdown",
   "metadata": {},
   "source": [
    "Now we we can start plotting our data. We will use the [matplotlib](https://matplotlib.org/) library for this. It is a very powerful library that can be used to create all kinds of plots. We will only use a small subset of the functionality."
   ]
  },
  {
   "cell_type": "markdown",
   "metadata": {},
   "source": [
    "## Histograms\n",
    "Histograms are a great way to visualise the distribution of a variable. Let's start by plotting the distribution of the age column."
   ]
  },
  {
   "cell_type": "code",
   "execution_count": null,
   "metadata": {},
   "outputs": [],
   "source": [
    "# Histogram\n",
    "plt.figure(figsize=(10, 6))\n",
    "plt.hist(dataframe['age'], bins=10, edgecolor='black')\n",
    "plt.title('Histogram')\n",
    "plt.xlabel('Age')\n",
    "plt.ylabel('Frequency')\n",
    "plt.show()"
   ]
  },
  {
   "cell_type": "markdown",
   "metadata": {},
   "source": [
    "From histograms we can extract useful information from the data. For example, we can see that the majority of the people in the dataset are between 20 and 40 years old. We can also see that there are a few people that are older than 60 years old."
   ]
  },
  {
   "cell_type": "markdown",
   "metadata": {},
   "source": [
    "## Density plots\n",
    "Density plots are similar to histograms, but they are smoother. They are also called kernel density plots. Let's plot the density of the age column."
   ]
  },
  {
   "cell_type": "code",
   "execution_count": null,
   "metadata": {},
   "outputs": [],
   "source": [
    "# Density Plot\n",
    "plt.figure(figsize=(10, 6))\n",
    "sns.kdeplot(dataframe['age'], color='darkblue')\n",
    "plt.title('Density Plot')\n",
    "plt.xlabel('Age')\n",
    "plt.ylabel('Density')\n",
    "plt.show()"
   ]
  },
  {
   "cell_type": "markdown",
   "metadata": {},
   "source": [
    "From the density plot is possible to see in more detail the distribution of the age column. We can see that the distribution is not symmetric and that it is skewed to the right. We can also see that the distribution is bimodal, which means that there are two peaks in the distribution. One peak is around 35 years old and the other is around 55 years old."
   ]
  },
  {
   "cell_type": "markdown",
   "metadata": {},
   "source": [
    "## Box plots\n",
    "Box plots are another way to visualise the distribution of a variable. They are very useful to compare the distribution of a variable across different groups. Let's plot the box plot of the age column."
   ]
  },
  {
   "cell_type": "code",
   "execution_count": null,
   "metadata": {},
   "outputs": [],
   "source": [
    "# Boxplot\n",
    "plt.figure(figsize=(10, 6))\n",
    "sns.boxplot(dataframe['age'], color='lightblue')\n",
    "plt.title('Boxplot')\n",
    "plt.xlabel('Age')\n",
    "plt.show()"
   ]
  },
  {
   "cell_type": "markdown",
   "metadata": {},
   "source": [
    "From the box plot we can see that the median age is around 35 years old. We can also see that the 50% of the people in the dataset are between 28 and 52 years old. Data points that are outside the whiskers are considered outliers."
   ]
  },
  {
   "cell_type": "markdown",
   "metadata": {},
   "source": [
    "## Violin plots\n",
    "Violin plots are similar to box plots, but they also show the density of the distribution. Let's plot the violin plot of the age column."
   ]
  },
  {
   "cell_type": "code",
   "execution_count": null,
   "metadata": {},
   "outputs": [],
   "source": [
    "# Violin Plot\n",
    "plt.figure(figsize=(10, 6))\n",
    "sns.violinplot(dataframe['age'], color='lightgreen')\n",
    "plt.title('Violin Plot')\n",
    "plt.xlabel('Age')\n",
    "plt.show()\n"
   ]
  },
  {
   "cell_type": "markdown",
   "metadata": {},
   "source": [
    "From this violin plot we can see that the distribution of the age column is bimodal apart from the information already extracted from the box plot."
   ]
  },
  {
   "cell_type": "markdown",
   "metadata": {},
   "source": [
    "## Bar plots\n",
    "Bar plots are used to display the frequency of different categories. Being a graphical representation of data, bar plots are a way to show data with respect to a variable."
   ]
  },
  {
   "cell_type": "code",
   "execution_count": null,
   "metadata": {},
   "outputs": [],
   "source": [
    "# Bar Plot\n",
    "# Assuming 'genre' is categorical. First, we count the number of instances for each category.\n",
    "category_counts = dataframe['genre'].value_counts()\n",
    "\n",
    "plt.figure(figsize=(10, 6))\n",
    "sns.barplot(x=category_counts.index, y=category_counts.values, color='salmon')\n",
    "plt.title('Bar Plot')\n",
    "plt.xlabel('Genre')\n",
    "plt.ylabel('Count')\n",
    "plt.xticks(rotation=90)  # Rotate x-axis labels for better visibility if they are long\n",
    "plt.show()\n"
   ]
  }
 ],
 "metadata": {
  "kernelspec": {
   "display_name": "data-and-image-analytics-D9Gue7Ry-py3.10",
   "language": "python",
   "name": "python3"
  },
  "language_info": {
   "codemirror_mode": {
    "name": "ipython",
    "version": 3
   },
   "file_extension": ".py",
   "mimetype": "text/x-python",
   "name": "python",
   "nbconvert_exporter": "python",
   "pygments_lexer": "ipython3",
   "version": "3.10.5"
  },
  "orig_nbformat": 4
 },
 "nbformat": 4,
 "nbformat_minor": 2
}
