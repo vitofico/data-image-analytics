{
 "cells": [
  {
   "cell_type": "markdown",
   "metadata": {},
   "source": [
    "# Data Visualisation with Python"
   ]
  },
  {
   "cell_type": "code",
   "execution_count": null,
   "metadata": {},
   "outputs": [],
   "source": [
    "import pandas as pd\n",
    "import numpy as np\n",
    "\n",
    "# Let's create a sample DataFrame\n",
    "np.random.seed(0)\n",
    "dataframe = pd.DataFrame({\n",
    "    'age': np.random.randint(20, 60, 100),\n",
    "    'income': np.random.randint(30000, 80000, 100),\n",
    "    'genre': np.random.choice(['Action', 'Comedy', 'Drama', 'Thriller'], 100)\n",
    "})\n",
    "\n",
    "# Let's see the first 5 rows\n",
    "display(dataframe.head())\n"
   ]
  },
  {
   "cell_type": "code",
   "execution_count": null,
   "metadata": {},
   "outputs": [],
   "source": [
    "# Import the required libraries for visualisation\n",
    "\n",
    "import matplotlib.pyplot as plt\n",
    "import seaborn as sns"
   ]
  },
  {
   "cell_type": "markdown",
   "metadata": {},
   "source": [
    "Now we we can start plotting our data. We will use the [matplotlib](https://matplotlib.org/) library for this. It is a very powerful library that can be used to create all kinds of plots. We will only use a small subset of the functionality."
   ]
  },
  {
   "cell_type": "markdown",
   "metadata": {},
   "source": [
    "## Histograms\n",
    "Histograms are a great way to visualise the distribution of a variable. Let's start by plotting the distribution of the age column."
   ]
  },
  {
   "cell_type": "code",
   "execution_count": null,
   "metadata": {},
   "outputs": [],
   "source": [
    "# Histogram\n",
    "plt.figure(figsize=(10, 6))\n",
    "plt.hist(dataframe['age'], bins=10, edgecolor='black')\n",
    "plt.title('Histogram')\n",
    "plt.xlabel('Age')\n",
    "plt.ylabel('Frequency')\n",
    "plt.show()"
   ]
  },
  {
   "cell_type": "markdown",
   "metadata": {},
   "source": [
    "From histograms we can extract useful information from the data. For example, we can see that the majority of the people in the dataset are between 20 and 40 years old. We can also see that there are a few people that are older than 60 years old."
   ]
  },
  {
   "cell_type": "markdown",
   "metadata": {},
   "source": [
    "## Density plots\n",
    "Density plots are similar to histograms, but they are smoother. They are also called kernel density plots. Let's plot the density of the age column."
   ]
  },
  {
   "cell_type": "code",
   "execution_count": null,
   "metadata": {},
   "outputs": [],
   "source": [
    "# Density Plot\n",
    "plt.figure(figsize=(10, 6))\n",
    "sns.kdeplot(dataframe['age'], color='darkblue')\n",
    "plt.title('Density Plot')\n",
    "plt.xlabel('Age')\n",
    "plt.ylabel('Density')\n",
    "plt.show()"
   ]
  },
  {
   "cell_type": "markdown",
   "metadata": {},
   "source": [
    "From the density plot is possible to see in more detail the distribution of the age column. We can see that the distribution is not symmetric and that it is skewed to the right. We can also see that the distribution is bimodal, which means that there are two peaks in the distribution. One peak is around 35 years old and the other is around 55 years old."
   ]
  },
  {
   "cell_type": "markdown",
   "metadata": {},
   "source": [
    "## Box plots\n",
    "Box plots are another way to visualise the distribution of a variable. They are very useful to compare the distribution of a variable across different groups. Let's plot the box plot of the age column."
   ]
  },
  {
   "cell_type": "code",
   "execution_count": null,
   "metadata": {},
   "outputs": [],
   "source": [
    "# Boxplot\n",
    "plt.figure(figsize=(10, 6))\n",
    "sns.boxplot(dataframe['age'], color='lightblue')\n",
    "plt.title('Boxplot')\n",
    "plt.xlabel('Age')\n",
    "plt.show()"
   ]
  },
  {
   "cell_type": "markdown",
   "metadata": {},
   "source": [
    "From the box plot we can see that the median age is around 35 years old. We can also see that the 50% of the people in the dataset are between 28 and 52 years old. Data points that are outside the whiskers are considered outliers."
   ]
  },
  {
   "cell_type": "markdown",
   "metadata": {},
   "source": [
    "## Violin plots\n",
    "Violin plots are similar to box plots, but they also show the density of the distribution. Let's plot the violin plot of the age column."
   ]
  },
  {
   "cell_type": "code",
   "execution_count": null,
   "metadata": {},
   "outputs": [],
   "source": [
    "# Violin Plot\n",
    "plt.figure(figsize=(10, 6))\n",
    "sns.violinplot(dataframe['age'], color='lightgreen')\n",
    "plt.title('Violin Plot')\n",
    "plt.xlabel('Age')\n",
    "plt.show()\n"
   ]
  },
  {
   "cell_type": "markdown",
   "metadata": {},
   "source": [
    "From this violin plot we can see that the distribution of the age column is bimodal apart from the information already extracted from the box plot."
   ]
  },
  {
   "cell_type": "markdown",
   "metadata": {},
   "source": [
    "## Bar plots\n",
    "Bar plots are used to display the frequency of different categories. Being a graphical representation of data, bar plots are a way to show data with respect to a variable."
   ]
  },
  {
   "cell_type": "code",
   "execution_count": null,
   "metadata": {},
   "outputs": [],
   "source": [
    "# Bar Plot\n",
    "# Assuming 'genre' is categorical. First, we count the number of instances for each category.\n",
    "category_counts = dataframe['genre'].value_counts()\n",
    "\n",
    "plt.figure(figsize=(10, 6))\n",
    "sns.barplot(x=category_counts.index, y=category_counts.values, color='salmon')\n",
    "plt.title('Bar Plot')\n",
    "plt.xlabel('Genre')\n",
    "plt.ylabel('Count')\n",
    "plt.xticks(rotation=90)  # Rotate x-axis labels for better visibility if they are long\n",
    "plt.show()\n"
   ]
  },
  {
   "cell_type": "markdown",
   "metadata": {},
   "source": [
    "## Visualising Correlation and Relationships"
   ]
  },
  {
   "cell_type": "markdown",
   "metadata": {},
   "source": [
    "To create sample code for each type of data visualization mentioned in the section (scatter plots, pair plots, heatmaps, and line charts), we'll use Python and some popular libraries for data visualization such as `matplotlib`, `seaborn`, and `pandas`. We'll also use a sample dataset to create these visualizations."
   ]
  },
  {
   "cell_type": "code",
   "execution_count": null,
   "metadata": {},
   "outputs": [],
   "source": [
    "# Scatter Plots with Complex Input Data and Randomness\n",
    "import matplotlib.pyplot as plt\n",
    "import pandas as pd\n",
    "import numpy as np\n",
    "\n",
    "# Sample data with randomness\n",
    "np.random.seed(42)\n",
    "size = 100\n",
    "data = {'Variable1': np.random.randint(1, 100, size=size),\n",
    "        'Variable2': np.random.randint(50, 150, size=size)}\n",
    "\n",
    "df = pd.DataFrame(data)\n",
    "\n",
    "# Scatter plot\n",
    "plt.scatter(df['Variable1'], df['Variable2'])\n",
    "plt.xlabel('Variable 1')\n",
    "plt.ylabel('Variable 2')\n",
    "plt.title('Scatter Plot')\n",
    "plt.show()\n"
   ]
  },
  {
   "cell_type": "markdown",
   "metadata": {},
   "source": [
    "### Pair Plots"
   ]
  },
  {
   "cell_type": "code",
   "execution_count": null,
   "metadata": {},
   "outputs": [],
   "source": [
    "# Pair Plots\n",
    "import seaborn as sns\n",
    "import pandas as pd\n",
    "\n",
    "# Sample data\n",
    "data = {'Variable1': [1, 2, 3, 4, 5],\n",
    "        'Variable2': [5, 4, 3, 2, 1],\n",
    "        'Variable3': [2, 4, 1, 3, 5]}\n",
    "\n",
    "df = pd.DataFrame(data)\n",
    "\n",
    "# Pair plot\n",
    "sns.pairplot(df)\n",
    "plt.show()\n"
   ]
  },
  {
   "cell_type": "markdown",
   "metadata": {},
   "source": [
    "\n",
    "### Heatmaps"
   ]
  },
  {
   "cell_type": "code",
   "execution_count": null,
   "metadata": {},
   "outputs": [],
   "source": [
    "# Heatmaps\n",
    "import seaborn as sns\n",
    "import pandas as pd\n",
    "\n",
    "# Sample data\n",
    "data = {'Variable1': [1, 2, 3, 4, 5],\n",
    "        'Variable2': [5, 4, 3, 2, 1],\n",
    "        'Variable3': [2, 4, 1, 3, 5]}\n",
    "\n",
    "df = pd.DataFrame(data)\n",
    "\n",
    "# Calculate the correlation matrix\n",
    "correlation_matrix = df.corr()\n",
    "\n",
    "# Heatmap\n",
    "sns.heatmap(correlation_matrix, annot=True, cmap='coolwarm')\n",
    "plt.title('Heatmap')\n",
    "plt.show()"
   ]
  },
  {
   "cell_type": "markdown",
   "metadata": {},
   "source": [
    "### Line Charts"
   ]
  },
  {
   "cell_type": "code",
   "execution_count": null,
   "metadata": {},
   "outputs": [],
   "source": [
    "# Line Charts\n",
    "import matplotlib.pyplot as plt\n",
    "\n",
    "# Sample data\n",
    "time = [1, 2, 3, 4, 5]\n",
    "data_series1 = [5, 3, 8, 4, 7]\n",
    "data_series2 = [2, 4, 6, 8, 10]\n",
    "\n",
    "# Line chart for data_series1\n",
    "plt.plot(time, data_series1, label='Data Series 1', marker='o')\n",
    "plt.xlabel('Time')\n",
    "plt.ylabel('Values')\n",
    "plt.title('Line Chart - Data Series 1')\n",
    "plt.legend()\n",
    "plt.show()\n",
    "\n",
    "# Line chart for data_series2\n",
    "plt.plot(time, data_series2, label='Data Series 2', marker='x')\n",
    "plt.xlabel('Time')\n",
    "plt.ylabel('Values')\n",
    "plt.title('Line Chart - Data Series 2')\n",
    "plt.legend()\n",
    "plt.show()"
   ]
  },
  {
   "cell_type": "markdown",
   "metadata": {},
   "source": [
    "## Advanced Visualisation"
   ]
  },
  {
   "cell_type": "markdown",
   "metadata": {},
   "source": [
    "### Swarmplot"
   ]
  },
  {
   "cell_type": "code",
   "execution_count": null,
   "metadata": {},
   "outputs": [],
   "source": [
    "import matplotlib.pyplot as plt\n",
    "import seaborn as sns\n",
    "\n",
    "# Load the dataset\n",
    "iris = sns.load_dataset('iris')\n",
    "\n",
    "# Create a swarmplot\n",
    "sns.swarmplot(x=\"species\", y=\"petal_length\", data=iris)\n",
    "\n",
    "# Show the plot\n",
    "plt.show()\n"
   ]
  },
  {
   "cell_type": "markdown",
   "metadata": {},
   "source": [
    "\n",
    "### Facet Grid Example"
   ]
  },
  {
   "cell_type": "code",
   "execution_count": null,
   "metadata": {},
   "outputs": [],
   "source": [
    "import matplotlib.pyplot as plt\n",
    "import seaborn as sns\n",
    "\n",
    "# Load the dataset\n",
    "iris = sns.load_dataset('iris')\n",
    "\n",
    "# Create a facet grid\n",
    "g = sns.FacetGrid(iris, col=\"species\")\n",
    "g.map(plt.hist, \"petal_length\")\n",
    "\n",
    "# Show the plot\n",
    "plt.show()"
   ]
  },
  {
   "cell_type": "markdown",
   "metadata": {},
   "source": [
    "\n",
    "### Bubble Plot Example"
   ]
  },
  {
   "cell_type": "code",
   "execution_count": null,
   "metadata": {},
   "outputs": [],
   "source": [
    "import matplotlib.pyplot as plt\n",
    "import pandas as pd\n",
    "import numpy as np\n",
    "\n",
    "# Generate random data\n",
    "data = pd.DataFrame({\n",
    "    'X': np.random.rand(50),\n",
    "    'Y': np.random.rand(50),\n",
    "    'Z': np.random.rand(50)\n",
    "})\n",
    "\n",
    "# Create a bubble plot\n",
    "plt.scatter('X', 'Y', s=100, c='Z', cmap='viridis', data=data, alpha=0.6)\n",
    "\n",
    "# Show the colour bar\n",
    "plt.colorbar(label='Z value')\n",
    "\n",
    "# Show the plot\n",
    "plt.show()\n"
   ]
  },
  {
   "cell_type": "markdown",
   "metadata": {},
   "source": [
    "\n",
    "### Treemap Example\n"
   ]
  },
  {
   "cell_type": "code",
   "execution_count": null,
   "metadata": {},
   "outputs": [],
   "source": [
    "import matplotlib.pyplot as plt\n",
    "import squarify\n",
    "\n",
    "# Sample data for Top 10 Countries by GDP (Gross Domestic Product in Trillions USD)\n",
    "countries = ['USA', 'China', 'Japan', 'Germany', 'UK', 'India', 'France', 'Italy', 'Brazil', 'Canada']\n",
    "gdp = [21.43, 14.34, 5.08, 3.86, 2.83, 2.87, 2.71, 2.07, 1.87, 1.64]\n",
    "\n",
    "# Create a DataFrame from the data\n",
    "data = {'Country': countries, 'GDP (Trillions USD)': gdp}\n",
    "df = pd.DataFrame(data)\n",
    "\n",
    "# Sort the DataFrame by GDP in descending order for better visualization\n",
    "df.sort_values(by='GDP (Trillions USD)', ascending=False, inplace=True)\n",
    "\n",
    "# Calculate the cumulative percentage of GDP\n",
    "df['GDP %'] = df['GDP (Trillions USD)'] / df['GDP (Trillions USD)'].sum()\n",
    "\n",
    "# Create the treemap\n",
    "plt.figure(figsize=(10, 6))\n",
    "squarify.plot(sizes=df['GDP (Trillions USD)'], label=df['Country'], alpha=0.8)\n",
    "plt.axis('off')\n",
    "plt.title('Top 10 Countries by GDP (2021)')\n",
    "plt.show()\n"
   ]
  },
  {
   "cell_type": "markdown",
   "metadata": {},
   "source": [
    "\n",
    "### Radar Chart"
   ]
  },
  {
   "cell_type": "code",
   "execution_count": null,
   "metadata": {},
   "outputs": [],
   "source": [
    "import matplotlib.pyplot as plt\n",
    "import pandas as pd\n",
    "from math import pi\n",
    "\n",
    "# Create a data frame\n",
    "df = pd.DataFrame({\n",
    "    'group': ['A'],\n",
    "    'var1': [38],\n",
    "    'var2': [29],\n",
    "    'var3': [8],\n",
    "    'var4': [7],\n",
    "    'var5': [28]\n",
    "})\n",
    "\n",
    "# Number of variables\n",
    "categories=list(df)[1:]\n",
    "N = len(categories)\n",
    "\n",
    "# Compute angle of each axis in the plot (divide the plot / number of variable)\n",
    "angles = [n / float(N) * 2 * pi for n in range(N)]\n",
    "angles += angles[:1]\n",
    "\n",
    "# Initialise the spider plot\n",
    "ax = plt.subplot(111, polar=True)\n",
    "\n",
    "# Draw one axe per variable + add labels\n",
    "plt.xticks(angles[:-1], categories, color='grey', size=8)\n",
    "\n",
    "# Draw ylabels\n",
    "ax.set_rlabel_position(0)\n",
    "plt.yticks([10,20,30], [\"10\",\"20\",\"30\"], color=\"grey\", size=7)\n",
    "plt.ylim(0,40)\n",
    "\n",
    "# Plot data\n",
    "values=df.loc[0].drop('group').values.flatten().tolist()\n",
    "values += values[:1]\n",
    "ax.plot(angles, values, linewidth=1, linestyle='solid')\n",
    "\n",
    "# Fill area\n",
    "ax.fill(angles, values, 'b', alpha=0.1)\n",
    "\n",
    "plt.show()"
   ]
  },
  {
   "cell_type": "markdown",
   "metadata": {},
   "source": [
    "\n",
    "### Network Diagram Example"
   ]
  },
  {
   "cell_type": "code",
   "execution_count": null,
   "metadata": {},
   "outputs": [],
   "source": [
    "import matplotlib.pyplot as plt\n",
    "import networkx as nx\n",
    "\n",
    "# Create a graph\n",
    "G = nx.Graph()\n",
    "\n",
    "# Add nodes\n",
    "G.add_nodes_from([\"A\", \"B\", \"C\", \"D\", \"E\"])\n",
    "\n",
    "# Add edges\n",
    "G.add_edges_from([(\"A\", \"B\"), (\"A\", \"C\"), (\"A\", \"D\"), (\"B\", \"E\"), (\"C\", \"E\")])\n",
    "\n",
    "# Draw the network diagram\n",
    "nx.draw(G, with_labels=True)\n",
    "\n",
    "plt.show()"
   ]
  },
  {
   "cell_type": "markdown",
   "metadata": {},
   "source": [
    "## Choropleth Maps"
   ]
  },
  {
   "cell_type": "code",
   "execution_count": null,
   "metadata": {},
   "outputs": [],
   "source": [
    "# Import necessary libraries\n",
    "import geopandas as gpd\n",
    "import matplotlib.pyplot as plt\n",
    "\n",
    "# Load the dataset\n",
    "world = gpd.read_file(gpd.datasets.get_path('naturalearth_lowres'))\n",
    "\n",
    "# Let's say we want to plot a choropleth map of the world, colored by population\n",
    "world = world[(world.pop_est>0) & (world.name!=\"Antarctica\")]\n",
    "\n",
    "# Normalize the population data to range between 0 and 1\n",
    "world['pop_est_norm'] = world['pop_est'] / world['pop_est'].max()\n",
    "\n",
    "# Plot the choropleth map\n",
    "fig, ax = plt.subplots(1, 1, figsize=(15, 10))\n",
    "world.plot(column='pop_est_norm', ax=ax, legend=True, cmap='YlOrRd')\n",
    "\n",
    "# Adding title\n",
    "plt.title('World Population Choropleth Map')\n",
    "\n",
    "# Remove axis\n",
    "ax.axis('off')\n",
    "\n",
    "# Show the map\n",
    "plt.show()"
   ]
  }
 ],
 "metadata": {
  "kernelspec": {
   "display_name": "data-and-image-analytics-D9Gue7Ry-py3.10",
   "language": "python",
   "name": "python3"
  },
  "language_info": {
   "codemirror_mode": {
    "name": "ipython",
    "version": 3
   },
   "file_extension": ".py",
   "mimetype": "text/x-python",
   "name": "python",
   "nbconvert_exporter": "python",
   "pygments_lexer": "ipython3",
   "version": "3.10.5"
  },
  "orig_nbformat": 4
 },
 "nbformat": 4,
 "nbformat_minor": 2
}
