{
 "cells": [
  {
   "cell_type": "markdown",
   "metadata": {},
   "source": [
    "# Guided Exercise: Iris Flower Classification\n",
    "\n",
    "## Introduction\n",
    "\n",
    "Welcome to this guided exercise on building a machine learning classifier for the famous Iris dataset! In this exercise, you'll work through the complete machine learning pipeline:\n",
    "\n",
    "1. **Data Loading & Exploration** - Understanding your data\n",
    "2. **Data Preprocessing** - Preparing data for modeling\n",
    "3. **Model Building** - Training classification algorithms\n",
    "4. **Model Evaluation** - Assessing performance\n",
    "5. **Model Improvement** - Hyperparameter tuning\n",
    "\n",
    "### Learning Objectives\n",
    "By the end of this exercise, you will be able to:\n",
    "- Load and explore datasets using scikit-learn\n",
    "- Perform exploratory data analysis (EDA)\n",
    "- Preprocess data for machine learning\n",
    "- Train multiple classification models\n",
    "- Evaluate model performance using appropriate metrics\n",
    "- Compare different algorithms and select the best one\n",
    "\n",
    "### The Iris Dataset\n",
    "The Iris dataset contains measurements of 150 iris flowers from three different species:\n",
    "- **Iris Setosa**\n",
    "- **Iris Versicolor** \n",
    "- **Iris Virginica**\n",
    "\n",
    "For each flower, we have four measurements (features):\n",
    "- Sepal length\n",
    "- Sepal width\n",
    "- Petal length\n",
    "- Petal width\n",
    "\n",
    "### Instructions\n",
    "- Read each section carefully\n",
    "- Complete the code in the cells marked with `# TODO:`\n",
    "- Answer the questions in the markdown cells\n",
    "- Don't worry if you get stuck - think about what you've learned in the course!\n",
    "- Compare your results with classmates after completing the exercise"
   ]
  },
  {
   "cell_type": "markdown",
   "metadata": {},
   "source": [
    "## Section 1: Data Loading and Initial Exploration\n",
    "\n",
    "### 1.1 Loading the Iris Dataset\n",
    "\n",
    "**Task:** Load the Iris dataset using scikit-learn's `load_iris()` function.\n",
    "\n",
    "**Instructions:**\n",
    "1. Import the necessary module from sklearn.datasets\n",
    "2. Load the iris dataset\n",
    "3. Print some basic information about the dataset (shape, feature names, target names)\n",
    "\n",
    "**Questions to think about:**\n",
    "- How many samples are in the dataset?\n",
    "- How many features does each sample have?\n",
    "- What are the three classes (species) we're trying to predict?"
   ]
  },
  {
   "cell_type": "code",
   "execution_count": null,
   "metadata": {},
   "outputs": [],
   "source": [
    "# TODO: Import the load_iris function from sklearn.datasets\n",
    "\n",
    "# TODO: Load the iris dataset and assign it to a variable called 'iris'\n",
    "\n",
    "# TODO: Print the shape of the data (number of samples, number of features)\n",
    "\n",
    "# TODO: Print the feature names\n",
    "\n",
    "# TODO: Print the target names (class names)\n",
    "\n",
    "# TODO: Print the first 5 samples of the data and their corresponding labels"
   ]
  },
  {
   "cell_type": "markdown",
   "metadata": {},
   "source": [
    "### 1.2 Basic Dataset Information\n",
    "\n",
    "**Task:** Extract the features (X) and target labels (y) from the dataset.\n",
    "\n",
    "**Questions to think about:**\n",
    "- What is the difference between features and labels in a supervised learning problem?\n",
    "- Why do we separate X (features) from y (target)?"
   ]
  },
  {
   "cell_type": "code",
   "execution_count": null,
   "metadata": {},
   "outputs": [],
   "source": [
    "# TODO: Extract features (X) and target labels (y) from the iris dataset\n",
    "# X should contain the measurements, y should contain the species labels\n",
    "\n",
    "# TODO: Print the shape of X and y\n",
    "\n",
    "# TODO: Print a few examples of X and corresponding y values"
   ]
  },
  {
   "cell_type": "markdown",
   "metadata": {},
   "source": [
    "## Section 2: Exploratory Data Analysis (EDA)\n",
    "\n",
    "### 2.1 Statistical Summary\n",
    "\n",
    "**Task:** Create a pandas DataFrame from the iris data and examine basic statistics.\n",
    "\n",
    "**Questions to think about:**\n",
    "- What can you learn from the mean and standard deviation of each feature?\n",
    "- Are there any features that might be more useful for classification than others?"
   ]
  },
  {
   "cell_type": "code",
   "execution_count": null,
   "metadata": {},
   "outputs": [],
   "source": [
    "# TODO: Import pandas and create a DataFrame from the iris data\n",
    "# Include both features and target labels in the DataFrame\n",
    "\n",
    "# TODO: Display the first few rows of the DataFrame\n",
    "\n",
    "# TODO: Use .describe() to get statistical summary of the features\n",
    "\n",
    "# TODO: Check for any missing values in the dataset"
   ]
  },
  {
   "cell_type": "markdown",
   "metadata": {},
   "source": [
    "### 2.2 Data Visualization\n",
    "\n",
    "**Task:** Create visualizations to understand the relationships in the data.\n",
    "\n",
    "**Questions to think about:**\n",
    "- Which features seem to be most correlated?\n",
    "- Can you see natural groupings of the different species?\n",
    "- Which visualization techniques would be most appropriate here?"
   ]
  },
  {
   "cell_type": "code",
   "execution_count": null,
   "metadata": {},
   "outputs": [],
   "source": [
    "# TODO: Import matplotlib.pyplot and seaborn for visualization\n",
    "\n",
    "# TODO: Create a pairplot to visualize relationships between all features\n",
    "# Color the points by species to see how they cluster\n",
    "\n",
    "# TODO: Create a correlation heatmap to see feature correlations\n",
    "\n",
    "# TODO: Create boxplots for each feature grouped by species"
   ]
  },
  {
   "cell_type": "markdown",
   "metadata": {},
   "source": [
    "### 2.3 Class Distribution\n",
    "\n",
    "**Task:** Check if the classes are balanced in the dataset.\n",
    "\n",
    "**Questions to think about:**\n",
    "- Are the classes evenly distributed?\n",
    "- What problems might arise if classes are imbalanced?\n",
    "- How would you handle imbalanced classes?"
   ]
  },
  {
   "cell_type": "code",
   "execution_count": null,
   "metadata": {},
   "outputs": [],
   "source": [
    "# TODO: Count the number of samples in each class\n",
    "\n",
    "# TODO: Create a bar plot showing the distribution of classes\n",
    "\n",
    "# TODO: Calculate the percentage of each class"
   ]
  },
  {
   "cell_type": "markdown",
   "metadata": {},
   "source": [
    "## Section 3: Data Preprocessing\n",
    "\n",
    "### 3.1 Train-Test Split\n",
    "\n",
    "**Task:** Split your data into training and testing sets.\n",
    "\n",
    "**Questions to think about:**\n",
    "- Why do we need to split the data?\n",
    "- What happens if we train and test on the same data?\n",
    "- What should be a good ratio for train/test split?"
   ]
  },
  {
   "cell_type": "code",
   "execution_count": null,
   "metadata": {},
   "outputs": [],
   "source": [
    "# TODO: Import train_test_split from sklearn.model_selection\n",
    "\n",
    "# TODO: Split the data into training and testing sets (80% train, 20% test)\n",
    "# Use random_state=42 for reproducibility\n",
    "\n",
    "# TODO: Print the shapes of X_train, X_test, y_train, y_test"
   ]
  },
  {
   "cell_type": "markdown",
   "metadata": {},
   "source": [
    "### 3.2 Feature Scaling\n",
    "\n",
    "**Task:** Standardize the features so they're on the same scale.\n",
    "\n",
    "**Questions to think about:**\n",
    "- Why might feature scaling be important for some algorithms?\n",
    "- Which algorithms are sensitive to feature scales?\n",
    "- When might you not need to scale features?"
   ]
  },
  {
   "cell_type": "code",
   "execution_count": null,
   "metadata": {},
   "outputs": [],
   "source": [
    "# TODO: Import StandardScaler from sklearn.preprocessing\n",
    "\n",
    "# TODO: Create a StandardScaler object\n",
    "\n",
    "# TODO: Fit the scaler on the training data and transform both train and test sets\n",
    "\n",
    "# TODO: Print the mean and standard deviation of the scaled features"
   ]
  },
  {
   "cell_type": "markdown",
   "metadata": {},
   "source": [
    "## Section 4: Model Building\n",
    "\n",
    "### 4.1 K-Nearest Neighbors (KNN)\n",
    "\n",
    "**Task:** Train a KNN classifier on the iris data.\n",
    "\n",
    "**Questions to think about:**\n",
    "- How does the KNN algorithm work?\n",
    "- What is the effect of choosing different values of k?\n",
    "- What are the advantages and disadvantages of KNN?"
   ]
  },
  {
   "cell_type": "code",
   "execution_count": null,
   "metadata": {},
   "outputs": [],
   "source": [
    "# TODO: Import KNeighborsClassifier from sklearn.neighbors\n",
    "\n",
    "# TODO: Create a KNN classifier with k=3\n",
    "\n",
    "# TODO: Train (fit) the classifier on the training data\n",
    "\n",
    "# TODO: Make predictions on the test data\n",
    "\n",
    "# TODO: Print the first 10 predictions and actual labels for comparison"
   ]
  },
  {
   "cell_type": "markdown",
   "metadata": {},
   "source": [
    "### 4.2 Logistic Regression\n",
    "\n",
    "**Task:** Train a Logistic Regression classifier.\n",
    "\n",
    "**Questions to think about:**\n",
    "- How does logistic regression work for multi-class problems?\n",
    "- What assumptions does logistic regression make?\n",
    "- When would you choose logistic regression over other algorithms?"
   ]
  },
  {
   "cell_type": "code",
   "execution_count": null,
   "metadata": {},
   "outputs": [],
   "source": [
    "# TODO: Import LogisticRegression from sklearn.linear_model\n",
    "\n",
    "# TODO: Create a LogisticRegression classifier\n",
    "\n",
    "# TODO: Train the classifier on the training data\n",
    "\n",
    "# TODO: Make predictions on the test data"
   ]
  },
  {
   "cell_type": "markdown",
   "metadata": {},
   "source": [
    "### 4.3 Support Vector Machine (SVM)\n",
    "\n",
    "**Task:** Train an SVM classifier.\n",
    "\n",
    "**Questions to think about:**\n",
    "- What is the basic idea behind SVM?\n",
    "- What is the kernel trick and when is it useful?\n",
    "- How does SVM handle non-linearly separable data?"
   ]
  },
  {
   "cell_type": "code",
   "execution_count": null,
   "metadata": {},
   "outputs": [],
   "source": [
    "# TODO: Import SVC from sklearn.svm\n",
    "\n",
    "# TODO: Create an SVM classifier with RBF kernel\n",
    "\n",
    "# TODO: Train the classifier on the training data\n",
    "\n",
    "# TODO: Make predictions on the test data"
   ]
  },
  {
   "cell_type": "markdown",
   "metadata": {},
   "source": [
    "### 4.4 Decision Tree\n",
    "\n",
    "**Task:** Train a Decision Tree classifier.\n",
    "\n",
    "**Questions to think about:**\n",
    "- How does a decision tree make predictions?\n",
    "- What are the advantages of decision trees?\n",
    "- What problems can decision trees suffer from?"
   ]
  },
  {
   "cell_type": "code",
   "execution_count": null,
   "metadata": {},
   "outputs": [],
   "source": [
    "# TODO: Import DecisionTreeClassifier from sklearn.tree\n",
    "\n",
    "# TODO: Create a DecisionTreeClassifier\n",
    "\n",
    "# TODO: Train the classifier on the training data\n",
    "\n",
    "# TODO: Make predictions on the test data"
   ]
  },
  {
   "cell_type": "markdown",
   "metadata": {},
   "source": [
    "### 4.5 Random Forest\n",
    "\n",
    "**Task:** Train a Random Forest classifier.\n",
    "\n",
    "**Questions to think about:**\n",
    "- How is Random Forest different from a single Decision Tree?\n",
    "- What is bagging and how does it help?\n",
    "- Why might Random Forest be better than individual trees?"
   ]
  },
  {
   "cell_type": "code",
   "execution_count": null,
   "metadata": {},
   "outputs": [],
   "source": [
    "# TODO: Import RandomForestClassifier from sklearn.ensemble\n",
    "\n",
    "# TODO: Create a RandomForestClassifier\n",
    "\n",
    "# TODO: Train the classifier on the training data\n",
    "\n",
    "# TODO: Make predictions on the test data"
   ]
  },
  {
   "cell_type": "markdown",
   "metadata": {},
   "source": [
    "## Section 5: Model Evaluation\n",
    "\n",
    "### 5.1 Accuracy Score\n",
    "\n",
    "**Task:** Calculate the accuracy of each model.\n",
    "\n",
    "**Questions to think about:**\n",
    "- What does accuracy tell us?\n",
    "- When might accuracy be misleading?\n",
    "- How is accuracy calculated?"
   ]
  },
  {
   "cell_type": "code",
   "execution_count": null,
   "metadata": {},
   "outputs": [],
   "source": [
    "# TODO: Import accuracy_score from sklearn.metrics\n",
    "\n",
    "# TODO: Calculate accuracy for each of the 5 models you trained\n",
    "# Store the results in variables or a dictionary\n",
    "\n",
    "# TODO: Print the accuracy scores for all models\n",
    "\n",
    "# TODO: Which model performed best? Which performed worst?"
   ]
  },
  {
   "cell_type": "markdown",
   "metadata": {},
   "source": [
    "### 5.2 Confusion Matrix\n",
    "\n",
    "**Task:** Create confusion matrices for each model.\n",
    "\n",
    "**Questions to think about:**\n",
    "- What does each cell in a confusion matrix represent?\n",
    "- How can you tell which classes are being confused?\n",
    "- What are precision and recall?"
   ]
  },
  {
   "cell_type": "code",
   "execution_count": null,
   "metadata": {},
   "outputs": [],
   "source": [
    "# TODO: Import confusion_matrix and classification_report from sklearn.metrics\n",
    "\n",
    "# TODO: Create confusion matrices for each model\n",
    "\n",
    "# TODO: Display the confusion matrices (you can use print or visualization)\n",
    "\n",
    "# TODO: Look at which classes are most often confused with each other"
   ]
  },
  {
   "cell_type": "markdown",
   "metadata": {},
   "source": [
    "### 5.3 Classification Report\n",
    "\n",
    "**Task:** Generate detailed classification reports.\n",
    "\n",
    "**Questions to think about:**\n",
    "- What do precision, recall, and F1-score tell you?\n",
    "- When might you care more about precision vs recall?\n",
    "- How is F1-score calculated?"
   ]
  },
  {
   "cell_type": "code",
   "execution_count": null,
   "metadata": {},
   "outputs": [],
   "source": [
    "# TODO: Generate classification reports for each model\n",
    "\n",
    "# TODO: Print the reports and compare them\n",
    "\n",
    "# TODO: Which model has the best overall performance?\n",
    "\n",
    "# TODO: Are there any classes that are harder to predict?"
   ]
  },
  {
   "cell_type": "markdown",
   "metadata": {},
   "source": [
    "### 5.4 Cross-Validation\n",
    "\n",
    "**Task:** Use cross-validation to get more reliable performance estimates.\n",
    "\n",
    "**Questions to think about:**\n",
    "- Why is cross-validation better than a single train-test split?\n",
    "- What does k-fold cross-validation do?\n",
    "- How many folds should you typically use?"
   ]
  },
  {
   "cell_type": "code",
   "execution_count": null,
   "metadata": {},
   "outputs": [],
   "source": [
    "# TODO: Import cross_val_score from sklearn.model_selection\n",
    "\n",
    "# TODO: Perform 5-fold cross-validation on each of your models\n",
    "\n",
    "# TODO: Print the cross-validation scores (mean and standard deviation)\n",
    "\n",
    "# TODO: How do the cross-validation results compare to the single train-test split?"
   ]
  },
  {
   "cell_type": "markdown",
   "metadata": {},
   "source": [
    "## Section 6: Model Improvement\n",
    "\n",
    "### 6.1 Hyperparameter Tuning with Grid Search\n",
    "\n",
    "**Task:** Use GridSearchCV to find the best hyperparameters for one of your models.\n",
    "\n",
    "**Questions to think about:**\n",
    "- What are hyperparameters vs parameters?\n",
    "- Why is it important to tune hyperparameters?\n",
    "- What is the difference between grid search and random search?"
   ]
  },
  {
   "cell_type": "code",
   "execution_count": null,
   "metadata": {},
   "outputs": [],
   "source": [
    "# TODO: Import GridSearchCV from sklearn.model_selection\n",
    "\n",
    "# TODO: Choose one model (e.g., Random Forest or SVM) to tune\n",
    "\n",
    "# TODO: Define a parameter grid to search over\n",
    "\n",
    "# TODO: Create a GridSearchCV object\n",
    "\n",
    "# TODO: Fit the grid search on the training data\n",
    "\n",
    "# TODO: Print the best parameters and best score\n",
    "\n",
    "# TODO: Evaluate the tuned model on the test set"
   ]
  },
  {
   "cell_type": "markdown",
   "metadata": {},
   "source": [
    "### 6.2 Feature Importance\n",
    "\n",
    "**Task:** Analyze which features are most important for prediction.\n",
    "\n",
    "**Questions to think about:**\n",
    "- How can you determine feature importance?\n",
    "- Which features seem most important for iris classification?\n",
    "- Could you use fewer features and still get good performance?"
   ]
  },
  {
   "cell_type": "code",
   "execution_count": null,
   "metadata": {},
   "outputs": [],
   "source": [
    "# TODO: For models that provide feature importance (like Random Forest), extract and visualize it\n",
    "\n",
    "# TODO: Create a bar plot of feature importances\n",
    "\n",
    "# TODO: Which features are most/least important?"
   ]
  },
  {
   "cell_type": "markdown",
   "metadata": {},
   "source": [
    "## Section 7: Final Comparison and Conclusions\n",
    "\n",
    "### 7.1 Model Comparison Summary\n",
    "\n",
    "**Task:** Create a summary comparing all your models.\n",
    "\n",
    "**Questions to think about:**\n",
    "- Which model would you recommend for this problem?\n",
    "- What are the trade-offs between different models?\n",
    "- How might your choice change if this were a different problem?"
   ]
  },
  {
   "cell_type": "code",
   "execution_count": null,
   "metadata": {},
   "outputs": [],
   "source": [
    "# TODO: Create a summary table or visualization comparing all models\n",
    "# Include metrics like accuracy, precision, recall, F1-score\n",
    "\n",
    "# TODO: Write your conclusions about which model performs best and why"
   ]
  },
  {
   "cell_type": "markdown",
   "metadata": {},
   "source": [
    "### 7.2 What You Learned\n",
    "\n",
    "**Reflection Questions:**\n",
    "1. What was the most challenging part of this exercise?\n",
    "2. What surprised you about the results?\n",
    "3. How might you apply what you learned to a different dataset?\n",
    "4. What would you do differently if you were to repeat this analysis?\n",
    "\n",
    "### 7.3 Next Steps\n",
    "\n",
    "**Advanced Topics to Explore:**\n",
    "- Try other classification algorithms (Naive Bayes, Gradient Boosting)\n",
    "- Experiment with different preprocessing techniques\n",
    "- Try the exercise on a different dataset\n",
    "- Learn about ensemble methods and stacking\n",
    "- Explore techniques for handling imbalanced datasets\n",
    "\n",
    "## Congratulations!\n",
    "\n",
    "You've completed a comprehensive machine learning exercise covering the entire pipeline from data exploration to model deployment. Take some time to reflect on what you've learned and how you can apply these techniques to your own projects.\n",
    "\n",
    "**Remember:** Machine learning is an iterative process. Don't be discouraged if your first models don't perform perfectly - the key is to keep experimenting and learning!"
   ]
  }
 ],
 "metadata": {
  "kernelspec": {
   "display_name": "Python 3",
   "language": "python",
   "name": "python3"
  },
  "language_info": {
   "codemirror_mode": {
    "name": "ipython",
    "version": 3
   },
   "file_extension": ".py",
   "mimetype": "text/x-python",
   "name": "python",
   "nbconvert_exporter": "python",
   "pygments_lexer": "ipython3",
   "version": "3.8.5"
  }
 },
 "nbformat": 4,
 "nbformat_minor": 4
}
