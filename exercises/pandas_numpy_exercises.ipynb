{
 "cells": [
  {
   "cell_type": "markdown",
   "metadata": {},
   "source": [
    "# Pandas and NumPy Exercises Notebook\n",
    "\n",
    "This notebook contains comprehensive exercises for both Pandas and NumPy libraries.\n",
    "Complete each exercise by writing your code in the provided cells.\n",
    "\n",
    "## Setup\n",
    "\n",
    "First, let's import the necessary libraries:"
   ]
  },
  {
   "cell_type": "code",
   "execution_count": null,
   "metadata": {},
   "outputs": [],
   "source": [
    "import pandas as pd\n",
    "import numpy as np\n",
    "import matplotlib.pyplot as plt\n",
    "\n",
    "# Enable inline plotting for Jupyter\n",
    "%matplotlib inline\n",
    "\n",
    "print(f\"Pandas version: {pd.__version__}\")\n",
    "print(f\"NumPy version: {np.__version__}\")"
   ]
  },
  {
   "cell_type": "markdown",
   "metadata": {},
   "source": [
    "# NumPy Exercises\n",
    "\n",
    "## Exercise 1: Array Creation and Basic Operations\n",
    "\n",
    "### Task: Create various types of NumPy arrays and perform basic operations"
   ]
  },
  {
   "cell_type": "code",
   "execution_count": null,
   "metadata": {},
   "outputs": [],
   "source": [
    "# Create a 1D array from a list\n",
    "# Your code here\n",
    "\n",
    "# Create a 2D array (matrix) from nested lists\n",
    "# Your code here\n",
    "\n",
    "# Create an array of zeros with shape (3, 4)\n",
    "# Your code here\n",
    "\n",
    "# Create an array of ones with shape (2, 3)\n",
    "# Your code here\n",
    "\n",
    "# Create an identity matrix of size 3x3\n",
    "# Your code here\n",
    "\n",
    "# Create an array with values from 0 to 9\n",
    "# Your code here\n",
    "\n",
    "# Create an array with 10 evenly spaced values between 0 and 1\n",
    "# Your code here"
   ]
  },
  {
   "cell_type": "markdown",
   "metadata": {},
   "source": [
    "## Exercise 2: Array Indexing and Slicing\n",
    "\n",
    "### Task: Practice accessing and modifying array elements"
   ]
  },
  {
   "cell_type": "code",
   "execution_count": null,
   "metadata": {},
   "outputs": [],
   "source": [
    "# Create a 2D array for indexing practice\n",
    "arr_2d = np.array([[1, 2, 3, 4], \n",
    "                   [5, 6, 7, 8], \n",
    "                   [9, 10, 11, 12]])\n",
    "\n",
    "print(\"Original array:\")\n",
    "print(arr_2d)\n",
    "\n",
    "# Access element at row 1, column 2\n",
    "# Your code here\n",
    "\n",
    "# Access the entire second row\n",
    "# Your code here\n",
    "\n",
    "# Access the entire third column\n",
    "# Your code here\n",
    "\n",
    "# Access elements from rows 0-1 and columns 1-2\n",
    "# Your code here\n",
    "\n",
    "# Access every other element from the first row\n",
    "# Your code here\n",
    "\n",
    "# Reverse the order of rows\n",
    "# Your code here"
   ]
  },
  {
   "cell_type": "markdown",
   "metadata": {},
   "source": [
    "## Exercise 3: Array Operations and Broadcasting\n",
    "\n",
    "### Task: Perform mathematical operations on arrays"
   ]
  },
  {
   "cell_type": "code",
   "execution_count": null,
   "metadata": {},
   "outputs": [],
   "source": [
    "# Create two arrays for operations\n",
    "a = np.array([1, 2, 3, 4])\n",
    "b = np.array([5, 6, 7, 8])\n",
    "\n",
    "print(\"Array a:\", a)\n",
    "print(\"Array b:\", b)\n",
    "\n",
    "# Add the two arrays element-wise\n",
    "# Your code here\n",
    "\n",
    "# Multiply arrays element-wise\n",
    "# Your code here\n",
    "\n",
    "# Calculate the dot product\n",
    "# Your code here\n",
    "\n",
    "# Square each element in array a\n",
    "# Your code here\n",
    "\n",
    "# Calculate the mean of array a\n",
    "# Your code here\n",
    "\n",
    "# Find the maximum value in array b\n",
    "# Your code here\n",
    "\n",
    "# Broadcasting: Add a scalar to an array\n",
    "# Your code here"
   ]
  },
  {
   "cell_type": "markdown",
   "metadata": {},
   "source": [
    "## Exercise 4: Array Reshaping and Transposing\n",
    "\n",
    "### Task: Change the shape and orientation of arrays"
   ]
  },
  {
   "cell_type": "code",
   "execution_count": null,
   "metadata": {},
   "outputs": [],
   "source": [
    "# Create a 1D array with 12 elements\n",
    "arr_1d = np.arange(12)\n",
    "print(\"Original 1D array:\", arr_1d)\n",
    "\n",
    "# Reshape to 3x4 matrix\n",
    "# Your code here\n",
    "\n",
    "# Reshape to 2x6 matrix\n",
    "# Your code here\n",
    "\n",
    "# Transpose the 3x4 matrix\n",
    "# Your code here\n",
    "\n",
    "# Flatten the matrix back to 1D\n",
    "# Your code here\n",
    "\n",
    "# Create a 3D array and flatten it\n",
    "arr_3d = np.random.rand(2, 3, 4)\n",
    "print(\"3D array shape:\", arr_3d.shape)\n",
    "# Your code here"
   ]
  },
  {
   "cell_type": "markdown",
   "metadata": {},
   "source": [
    "## Exercise 5: Boolean Indexing and Filtering\n",
    "\n",
    "### Task: Use boolean conditions to filter arrays"
   ]
  },
  {
   "cell_type": "code",
   "execution_count": null,
   "metadata": {},
   "outputs": [],
   "source": [
    "# Create an array for boolean indexing\n",
    "data = np.array([10, 25, 3, 45, 7, 18, 92, 31])\n",
    "print(\"Original array:\", data)\n",
    "\n",
    "# Find elements greater than 20\n",
    "# Your code here\n",
    "\n",
    "# Find elements that are even\n",
    "# Your code here\n",
    "\n",
    "# Find elements between 10 and 50 (inclusive)\n",
    "# Your code here\n",
    "\n",
    "# Replace all values greater than 30 with -1\n",
    "# Your code here\n",
    "\n",
    "# Count how many elements are greater than the mean\n",
    "# Your code here"
   ]
  },
  {
   "cell_type": "markdown",
   "metadata": {},
   "source": [
    "## Exercise 6: Random Number Generation\n",
    "\n",
    "### Task: Generate random numbers with different distributions"
   ]
  },
  {
   "cell_type": "code",
   "execution_count": null,
   "metadata": {},
   "outputs": [],
   "source": [
    "# Set seed for reproducibility\n",
    "np.random.seed(42)\n",
    "\n",
    "# Generate 10 random numbers between 0 and 1\n",
    "# Your code here\n",
    "\n",
    "# Generate 5 random integers between 1 and 100\n",
    "# Your code here\n",
    "\n",
    "# Generate random numbers from a normal distribution (mean=0, std=1)\n",
    "# Your code here\n",
    "\n",
    "# Generate random numbers from a normal distribution (mean=5, std=2)\n",
    "# Your code here\n",
    "\n",
    "# Shuffle an array\n",
    "arr_to_shuffle = np.arange(10)\n",
    "print(\"Original array:\", arr_to_shuffle)\n",
    "# Your code here\n",
    "\n",
    "# Choose 3 random elements from an array without replacement\n",
    "population = np.arange(1, 21)\n",
    "# Your code here"
   ]
  },
  {
   "cell_type": "markdown",
   "metadata": {},
   "source": [
    "# Pandas Exercises\n",
    "\n",
    "## Exercise 7: Creating and Inspecting DataFrames\n",
    "\n",
    "### Task: Create a DataFrame from the given dictionary and inspect its properties"
   ]
  },
  {
   "cell_type": "code",
   "execution_count": null,
   "metadata": {},
   "outputs": [],
   "source": [
    "data = {\n",
    "    'Name': ['Alice', 'Bob', 'Charlie', 'Diana', 'Eve'],\n",
    "    'Age': [25, 30, 35, 28, 32],\n",
    "    'City': ['New York', 'London', 'Paris', 'Tokyo', 'Sydney'],\n",
    "    'Salary': [50000, 60000, 55000, 65000, 58000],\n",
    "    'Department': ['HR', 'IT', 'Finance', 'IT', 'Marketing']\n",
    "}\n",
    "\n",
    "# Create a DataFrame\n",
    "# Your code here\n",
    "\n",
    "# Display the first few rows\n",
    "# Your code here\n",
    "\n",
    "# Display the last few rows\n",
    "# Your code here\n",
    "\n",
    "# Display basic information about the DataFrame\n",
    "# Your code here\n",
    "\n",
    "# Display summary statistics\n",
    "# Your code here\n",
    "\n",
    "# Check the shape of the DataFrame\n",
    "# Your code here\n",
    "\n",
    "# Check column data types\n",
    "# Your code here"
   ]
  },
  {
   "cell_type": "markdown",
   "metadata": {},
   "source": [
    "## Exercise 8: Filtering and Selecting Data\n",
    "\n",
    "### Task: Filter the DataFrame based on various conditions"
   ]
  },
  {
   "cell_type": "code",
   "execution_count": null,
   "metadata": {},
   "outputs": [],
   "source": [
    "# Assuming df is already created from Exercise 7\n",
    "\n",
    "# Filter employees older than 30\n",
    "# Your code here\n",
    "\n",
    "# Filter employees in IT department\n",
    "# Your code here\n",
    "\n",
    "# Filter employees with salary greater than 55000 and age less than 35\n",
    "# Your code here\n",
    "\n",
    "# Select only Name and Salary columns\n",
    "# Your code here\n",
    "\n",
    "# Select employees from New York or London\n",
    "# Your code here\n",
    "\n",
    "# Use loc to select specific rows and columns\n",
    "# Your code here"
   ]
  },
  {
   "cell_type": "markdown",
   "metadata": {},
   "source": [
    "## Exercise 9: Sorting and Grouping Data\n",
    "\n",
    "### Task: Sort and group the DataFrame"
   ]
  },
  {
   "cell_type": "code",
   "execution_count": null,
   "metadata": {},
   "outputs": [],
   "source": [
    "# Sort by Age in ascending order\n",
    "# Your code here\n",
    "\n",
    "# Sort by Salary in descending order\n",
    "# Your code here\n",
    "\n",
    "# Sort by Department and then by Age\n",
    "# Your code here\n",
    "\n",
    "# Group by Department and calculate mean salary\n",
    "# Your code here\n",
    "\n",
    "# Group by Department and get count of employees\n",
    "# Your code here\n",
    "\n",
    "# Group by Department and get min/max/mean age\n",
    "# Your code here\n",
    "\n",
    "# Create a pivot table showing average salary by department and city\n",
    "# Your code here"
   ]
  },
  {
   "cell_type": "markdown",
   "metadata": {},
   "source": [
    "## Exercise 10: Handling Missing Data\n",
    "\n",
    "### Task: Introduce and handle missing values in the DataFrame"
   ]
  },
  {
   "cell_type": "code",
   "execution_count": null,
   "metadata": {},
   "outputs": [],
   "source": [
    "# Create a copy of the DataFrame with missing values\n",
    "df_missing = df.copy()\n",
    "\n",
    "# Introduce missing values\n",
    "df_missing.loc[1, 'Age'] = np.nan\n",
    "df_missing.loc[3, 'Salary'] = np.nan\n",
    "df_missing.loc[4, 'Department'] = np.nan\n",
    "\n",
    "print(\"DataFrame with missing values:\")\n",
    "print(df_missing)\n",
    "\n",
    "# Check for missing values\n",
    "# Your code here\n",
    "\n",
    "# Drop rows with any missing values\n",
    "# Your code here\n",
    "\n",
    "# Drop rows where specific columns have missing values\n",
    "# Your code here\n",
    "\n",
    "# Fill missing values with mean (for numeric columns)\n",
    "# Your code here\n",
    "\n",
    "# Fill missing values with mode (for categorical columns)\n",
    "# Your code here\n",
    "\n",
    "# Fill missing values with a specific value\n",
    "# Your code here"
   ]
  },
  {
   "cell_type": "markdown",
   "metadata": {},
   "source": [
    "## Exercise 11: Data Transformation and Feature Engineering\n",
    "\n",
    "### Task: Create new columns and transform existing data"
   ]
  },
  {
   "cell_type": "code",
   "execution_count": null,
   "metadata": {},
   "outputs": [],
   "source": [
    "# Create a new column for Age Category\n",
    "# Your code here\n",
    "\n",
    "# Create a new column for Salary Category\n",
    "# Your code here\n",
    "\n",
    "# Create a new column with name length\n",
    "# Your code here\n",
    "\n",
    "# Create a new column with city code (first 3 letters uppercase)\n",
    "# Your code here\n",
    "\n",
    "# Apply a custom function to create a bonus column (10% of salary)\n",
    "# Your code here\n",
    "\n",
    "# Use map to convert department names to codes\n",
    "# Your code here\n",
    "\n",
    "# Normalize the salary column (min-max scaling)\n",
    "# Your code here"
   ]
  },
  {
   "cell_type": "markdown",
   "metadata": {},
   "source": [
    "## Exercise 12: Merging and Joining DataFrames\n",
    "\n",
    "### Task: Create additional DataFrames and merge them"
   ]
  },
  {
   "cell_type": "code",
   "execution_count": null,
   "metadata": {},
   "outputs": [],
   "source": [
    "# Create a second DataFrame with performance data\n",
    "performance_data = {\n",
    "    'Name': ['Alice', 'Bob', 'Charlie', 'Diana', 'Eve'],\n",
    "    'Performance_Score': [8.5, 7.2, 9.1, 8.8, 7.9],\n",
    "    'Years_Experience': [3, 5, 8, 4, 6]\n",
    "}\n",
    "\n",
    "# Create the second DataFrame\n",
    "# Your code here\n",
    "\n",
    "# Merge the two DataFrames on Name (inner join)\n",
    "# Your code here\n",
    "\n",
    "# Left join\n",
    "# Your code here\n",
    "\n",
    "# Create a third DataFrame with department info\n",
    "dept_data = {\n",
    "    'Department': ['HR', 'IT', 'Finance', 'Marketing', 'Sales'],\n",
    "    'Budget': [100000, 200000, 150000, 120000, 180000],\n",
    "    'Head_Count': [5, 10, 8, 6, 12]\n",
    "}\n",
    "\n",
    "# Create the third DataFrame\n",
    "# Your code here\n",
    "\n",
    "# Merge with department data\n",
    "# Your code here\n",
    "\n",
    "# Concatenate DataFrames vertically\n",
    "# Your code here"
   ]
  },
  {
   "cell_type": "markdown",
   "metadata": {},
   "source": [
    "## Exercise 13: Time Series Data\n",
    "\n",
    "### Task: Work with datetime data and time series operations"
   ]
  },
  {
   "cell_type": "code",
   "execution_count": null,
   "metadata": {},
   "outputs": [],
   "source": [
    "# Create a time series DataFrame\n",
    "dates = pd.date_range('2023-01-01', periods=100, freq='D')\n",
    "ts_data = {\n",
    "    'Date': dates,\n",
    "    'Value': np.random.randn(100).cumsum(),\n",
    "    'Category': np.random.choice(['A', 'B', 'C'], 100)\n",
    "}\n",
    "\n",
    "# Create the time series DataFrame\n",
    "# Your code here\n",
    "\n",
    "# Set Date as index\n",
    "# Your code here\n",
    "\n",
    "# Extract year, month, day components\n",
    "# Your code here\n",
    "\n",
    "# Resample to monthly frequency and calculate mean\n",
    "# Your code here\n",
    "\n",
    "# Calculate rolling mean with window of 7 days\n",
    "# Your code here\n",
    "\n",
    "# Filter data for a specific date range\n",
    "# Your code here\n",
    "\n",
    "# Group by month and calculate statistics\n",
    "# Your code here"
   ]
  },
  {
   "cell_type": "markdown",
   "metadata": {},
   "source": [
    "## Exercise 14: Data Visualization with Pandas\n",
    "\n",
    "### Task: Create various plots using pandas plotting capabilities"
   ]
  },
  {
   "cell_type": "code",
   "execution_count": null,
   "metadata": {},
   "outputs": [],
   "source": [
    "# Assuming we have the original df from Exercise 7\n",
    "\n",
    "# Create a histogram of Age\n",
    "# Your code here\n",
    "\n",
    "# Create a bar plot of average salary by department\n",
    "# Your code here\n",
    "\n",
    "# Create a scatter plot of Age vs Salary\n",
    "# Your code here\n",
    "\n",
    "# Create a box plot of Salary by Department\n",
    "# Your code here\n",
    "\n",
    "# Create a line plot for time series data (from Exercise 13)\n",
    "# Your code here\n",
    "\n",
    "# Create a pie chart of department distribution\n",
    "# Your code here\n",
    "\n",
    "# Create a correlation heatmap\n",
    "# Your code here"
   ]
  },
  {
   "cell_type": "markdown",
   "metadata": {},
   "source": [
    "## Exercise 15: Advanced Data Manipulation\n",
    "\n",
    "### Task: Practice advanced pandas operations"
   ]
  },
  {
   "cell_type": "code",
   "execution_count": null,
   "metadata": {},
   "outputs": [],
   "source": [
    "# Create a multi-index DataFrame\n",
    "multi_data = {\n",
    "    'Region': ['North', 'North', 'South', 'South', 'East', 'East', 'West', 'West'],\n",
    "    'City': ['NYC', 'Boston', 'Miami', 'Atlanta', 'DC', 'Philadelphia', 'LA', 'Seattle'],\n",
    "    'Sales_Q1': [100, 80, 90, 70, 85, 95, 110, 105],\n",
    "    'Sales_Q2': [105, 85, 95, 75, 90, 100, 115, 110]\n",
    "}\n",
    "\n",
    "# Create DataFrame with multi-index\n",
    "# Your code here\n",
    "\n",
    "# Set multi-index\n",
    "# Your code here\n",
    "\n",
    "# Select data for a specific region\n",
    "# Your code here\n",
    "\n",
    "# Calculate total sales by region\n",
    "# Your code here\n",
    "\n",
    "# Melt the DataFrame from wide to long format\n",
    "# Your code here\n",
    "\n",
    "# Pivot the melted DataFrame back to wide format\n",
    "# Your code here\n",
    "\n",
    "# Handle duplicate data\n",
    "duplicate_df = df.copy()\n",
    "# Add duplicate rows\n",
    "duplicate_df = pd.concat([duplicate_df, duplicate_df.iloc[:2]], ignore_index=True)\n",
    "\n",
    "# Identify duplicates\n",
    "# Your code here\n",
    "\n",
    "# Remove duplicates\n",
    "# Your code here"
   ]
  },
  {
   "cell_type": "markdown",
   "metadata": {},
   "source": [
    "## Exercise 16: String Operations\n",
    "\n",
    "### Task: Perform string operations on text data"
   ]
  },
  {
   "cell_type": "code",
   "execution_count": null,
   "metadata": {},
   "outputs": [],
   "source": [
    "# Create a DataFrame with text data\n",
    "text_data = {\n",
    "    'Name': ['Alice Johnson', 'Bob Smith', 'Charlie Brown', 'Diana Prince'],\n",
    "    'Email': ['alice.johnson@email.com', 'bob.smith@company.org', 'charlie.brown@university.edu', 'diana.prince@domain.net'],\n",
    "    'Description': ['Senior Developer', 'Project Manager', 'Data Scientist', 'UX Designer']\n",
    "}\n",
    "\n",
    "# Create the DataFrame\n",
    "# Your code here\n",
    "\n",
    "# Extract first names\n",
    "# Your code here\n",
    "\n",
    "# Extract last names\n",
    "# Your code here\n",
    "\n",
    "# Extract domain from email\n",
    "# Your code here\n",
    "\n",
    "# Convert names to uppercase\n",
    "# Your code here\n",
    "\n",
    "# Check if description contains 'Developer'\n",
    "# Your code here\n",
    "\n",
    "# Split email by '@' and get username\n",
    "# Your code here\n",
    "\n",
    "# Replace spaces with underscores in names\n",
    "# Your code here"
   ]
  },
  {
   "cell_type": "markdown",
   "metadata": {},
   "source": [
    "## Exercise 17: Working with CSV and External Data\n",
    "\n",
    "### Task: Read and write data to external files"
   ]
  },
  {
   "cell_type": "code",
   "execution_count": null,
   "metadata": {},
   "outputs": [],
   "source": [
    "# Save the DataFrame to CSV\n",
    "# Your code here\n",
    "\n",
    "# Read the CSV file back\n",
    "# Your code here\n",
    "\n",
    "# Save to Excel (if available)\n",
    "# Your code here\n",
    "\n",
    "# Read from Excel (if available)\n",
    "# Your code here\n",
    "\n",
    "# Save to JSON\n",
    "# Your code here\n",
    "\n",
    "# Read from JSON\n",
    "# Your code here\n",
    "\n",
    "# Read CSV with specific parameters (skip rows, select columns)\n",
    "# Your code here"
   ]
  },
  {
   "cell_type": "markdown",
   "metadata": {},
   "source": [
    "## Exercise 18: Performance Optimization\n",
    "\n",
    "### Task: Optimize pandas operations for better performance"
   ]
  },
  {
   "cell_type": "code",
   "execution_count": null,
   "metadata": {},
   "outputs": [],
   "source": [
    "# Create a large DataFrame for performance testing\n",
    "large_df = pd.DataFrame({\n",
    "    'A': np.random.randn(100000),\n",
    "    'B': np.random.randn(100000),\n",
    "    'C': np.random.choice(['X', 'Y', 'Z'], 100000),\n",
    "    'D': np.random.randint(1, 100, 100000)\n",
    "})\n",
    "\n",
    "print(\"Large DataFrame shape:\", large_df.shape)\n",
    "\n",
    "# Use vectorized operations instead of loops\n",
    "# Bad approach (loop)\n",
    "# Your code here (commented out)\n",
    "\n",
    "# Good approach (vectorized)\n",
    "# Your code here\n",
    "\n",
    "# Use efficient data types\n",
    "# Check memory usage\n",
    "# Your code here\n",
    "\n",
    "# Convert to more efficient data types where possible\n",
    "# Your code here\n",
    "\n",
    "# Use eval() for complex operations\n",
    "# Your code here\n",
    "\n",
    "# Use query() for filtering\n",
    "# Your code here"
   ]
  },
  {
   "cell_type": "markdown",
   "metadata": {},
   "source": [
    "## Exercise 19: Integration of NumPy and Pandas\n",
    "\n",
    "### Task: Demonstrate how NumPy and Pandas work together"
   ]
  },
  {
   "cell_type": "code",
   "execution_count": null,
   "metadata": {},
   "outputs": [],
   "source": [
    "# Create NumPy arrays\n",
    "np_array = np.random.randn(100, 4)\n",
    "\n",
    "# Convert NumPy array to DataFrame\n",
    "# Your code here\n",
    "\n",
    "# Access underlying NumPy array from DataFrame\n",
    "# Your code here\n",
    "\n",
    "# Apply NumPy functions to DataFrame columns\n",
    "# Your code here\n",
    "\n",
    "# Use NumPy for complex calculations on DataFrame data\n",
    "# Your code here\n",
    "\n",
    "# Vectorized operations combining both libraries\n",
    "# Your code here\n",
    "\n",
    "# Statistical operations using both libraries\n",
    "# Your code here"
   ]
  },
  {
   "cell_type": "markdown",
   "metadata": {},
   "source": [
    "# Challenge Exercises\n",
    "\n",
    "## Challenge 1: Movie Data Analysis\n",
    "\n",
    "### Task: Analyze a movie dataset with various operations"
   ]
  },
  {
   "cell_type": "code",
   "execution_count": null,
   "metadata": {},
   "outputs": [],
   "source": [
    "# Create a sample movie dataset\n",
    "movie_data = {\n",
    "    'Title': ['The Shawshank Redemption', 'The Godfather', 'The Dark Knight', 'Pulp Fiction', 'Forrest Gump'],\n",
    "    'Year': [1994, 1972, 2008, 1994, 1994],\n",
    "    'Genre': ['Drama', 'Crime', 'Action', 'Crime', 'Drama'],\n",
    "    'Rating': [9.3, 9.2, 9.0, 8.9, 8.8],\n",
    "    'Duration': [142, 175, 152, 154, 142],\n",
    "    'Director': ['Frank Darabont', 'Francis Ford Coppola', 'Christopher Nolan', 'Quentin Tarantino', 'Robert Zemeckis']\n",
    "}\n",
    "\n",
    "# Create the DataFrame\n",
    "# Your code here\n",
    "\n",
    "# Find the highest rated movie\n",
    "# Your code here\n",
    "\n",
    "# Calculate average rating by genre\n",
    "# Your code here\n",
    "\n",
    "# Find movies from 1994\n",
    "# Your code here\n",
    "\n",
    "# Create a new column for 'Century' based on year\n",
    "# Your code here\n",
    "\n",
    "# Sort by rating in descending order\n",
    "# Your code here\n",
    "\n",
    "# Find the director with the most movies in the dataset\n",
    "# Your code here"
   ]
  },
  {
   "cell_type": "markdown",
   "metadata": {},
   "source": [
    "## Challenge 2: Stock Market Analysis\n",
    "\n",
    "### Task: Analyze simulated stock market data"
   ]
  },
  {
   "cell_type": "code",
   "execution_count": null,
   "metadata": {},
   "outputs": [],
   "source": [
    "# Create simulated stock data\n",
    "np.random.seed(42)\n",
    "dates = pd.date_range('2023-01-01', periods=252, freq='B')  # Business days\n",
    "stock_data = {\n",
    "    'Date': dates,\n",
    "    'AAPL': 150 + np.random.randn(252).cumsum(),\n",
    "    'GOOGL': 2500 + np.random.randn(252).cumsum(),\n",
    "    'MSFT': 300 + np.random.randn(252).cumsum(),\n",
    "    'AMZN': 3000 + np.random.randn(252).cumsum()\n",
    "}\n",
    "\n",
    "# Create the DataFrame\n",
    "# Your code here\n",
    "\n",
    "# Set Date as index\n",
    "# Your code here\n",
    "\n",
    "# Calculate daily returns\n",
    "# Your code here\n",
    "\n",
    "# Calculate cumulative returns\n",
    "# Your code here\n",
    "\n",
    "# Find the best performing stock\n",
    "# Your code here\n",
    "\n",
    "# Calculate volatility (standard deviation of returns)\n",
    "# Your code here\n",
    "\n",
    "# Plot the stock prices\n",
    "# Your code here\n",
    "\n",
    "# Calculate 30-day moving average\n",
    "# Your code here"
   ]
  },
  {
   "cell_type": "markdown",
   "metadata": {},
   "source": [
    "## Challenge 3: Data Cleaning Pipeline\n",
    "\n",
    "### Task: Create a complete data cleaning pipeline"
   ]
  },
  {
   "cell_type": "code",
   "execution_count": null,
   "metadata": {},
   "outputs": [],
   "source": [
    "# Create a messy dataset\n",
    "np.random.seed(123)\n",
    "messy_data = {\n",
    "    'Name': ['Alice', 'Bob', 'Charlie', 'Diana', 'Eve', np.nan, 'Frank'],\n",
    "    'Age': [25, 30, np.nan, 28, 32, 35, 'thirty-five'],\n",
    "    'Salary': ['$50,000', '$60,000', '$55,000', np.nan, '$58,000', '$62,000', '$48,000'],\n",
    "    'Department': ['HR', 'IT', 'Finance', 'IT', 'Marketing', 'HR', np.nan],\n",
    "    'Join_Date': ['2020-01-15', '2019-03-22', '2021-07-10', np.nan, '2018-11-05', '2022-02-28', '2020-09-12']\n",
    "}\n",
    "\n",
    "# Create the messy DataFrame\n",
    "# Your code here\n",
    "\n",
    "# Clean the dataset step by step\n",
    "# 1. Handle missing values\n",
    "# Your code here\n",
    "\n",
    "# 2. Convert data types\n",
    "# Your code here\n",
    "\n",
    "# 3. Clean salary column (remove $ and commas)\n",
    "# Your code here\n",
    "\n",
    "# 4. Convert Age to numeric (handle 'thirty-five')\n",
    "# Your code here\n",
    "\n",
    "# 5. Convert Join_Date to datetime\n",
    "# Your code here\n",
    "\n",
    "# 6. Handle duplicates if any\n",
    "# Your code here\n",
    "\n",
    "# 7. Create derived columns\n",
    "# Your code here\n",
    "\n",
    "# Final cleaned dataset\n",
    "# Your code here"
   ]
  },
  {
   "cell_type": "markdown",
   "metadata": {},
   "source": [
    "# Solutions\n",
    "\n",
    "## NumPy Solutions\n",
    "\n",
    "### Exercise 1 Solution:"
   ]
  },
  {
   "cell_type": "code",
   "execution_count": null,
   "metadata": {},
   "outputs": [],
   "source": [
    "# Array creation examples\n",
    "arr_1d = np.array([1, 2, 3, 4, 5])\n",
    "arr_2d = np.array([[1, 2, 3], [4, 5, 6]])\n",
    "zeros_arr = np.zeros((3, 4))\n",
    "ones_arr = np.ones((2, 3))\n",
    "identity = np.eye(3)\n",
    "range_arr = np.arange(10)\n",
    "linspace_arr = np.linspace(0, 1, 10)\n",
    "\n",
    "print(\"1D Array:\", arr_1d)\n",
    "print(\"2D Array:\")\n",
    "print(arr_2d)\n",
    "print(\"Zeros Array:\")\n",
    "print(zeros_arr)"
   ]
  },
  {
   "cell_type": "markdown",
   "metadata": {},
   "source": [
    "### Exercise 2 Solution:"
   ]
  },
  {
   "cell_type": "code",
   "execution_count": null,
   "metadata": {},
   "outputs": [],
   "source": [
    "# Indexing examples\n",
    "element = arr_2d[1, 2]  # Row 1, Column 2\n",
    "second_row = arr_2d[1, :]  # Entire second row\n",
    "third_col = arr_2d[:, 2]  # Entire third column\n",
    "subset = arr_2d[0:2, 1:3]  # Rows 0-1, Columns 1-2\n",
    "every_other = arr_2d[0, ::2]  # Every other element in first row\n",
    "reversed_rows = arr_2d[::-1]  # Reverse row order\n",
    "\n",
    "print(\"Element at [1,2]:\", element)\n",
    "print(\"Second row:\", second_row)\n",
    "print(\"Subset:\")\n",
    "print(subset)"
   ]
  },
  {
   "cell_type": "markdown",
   "metadata": {},
   "source": [
    "### Exercise 3 Solution:"
   ]
  },
  {
   "cell_type": "code",
   "execution_count": null,
   "metadata": {},
   "outputs": [],
   "source": [
    "# Array operations\n",
    "addition = a + b\n",
    "multiplication = a * b\n",
    "dot_product = np.dot(a, b)\n",
    "squared = a ** 2\n",
    "mean_val = np.mean(a)\n",
    "max_val = np.max(b)\n",
    "scalar_add = a + 10\n",
    "\n",
    "print(\"Addition:\", addition)\n",
    "print(\"Multiplication:\", multiplication)\n",
    "print(\"Dot product:\", dot_product)\n",
    "print(\"Squared:\", squared)\n",
    "print(\"Mean of a:\", mean_val)\n",
    "print(\"Max of b:\", max_val)"
   ]
  },
  {
   "cell_type": "markdown",
   "metadata": {},
   "source": [
    "## Pandas Solutions\n",
    "\n",
    "### Exercise 7 Solution:"
   ]
  },
  {
   "cell_type": "code",
   "execution_count": null,
   "metadata": {},
   "outputs": [],
   "source": [
    "# DataFrame creation and inspection\n",
    "df = pd.DataFrame(data)\n",
    "\n",
    "print(\"First few rows:\")\n",
    "print(df.head())\n",
    "\n",
    "print(\"\\nLast few rows:\")\n",
    "print(df.tail())\n",
    "\n",
    "print(\"\\nDataFrame info:\")\n",
    "print(df.info())\n",
    "\n",
    "print(\"\\nSummary statistics:\")\n",
    "print(df.describe())\n",
    "\n",
    "print(\"\\nShape:\", df.shape)\n",
    "print(\"\\nData types:\")\n",
    "print(df.dtypes)"
   ]
  },
  {
   "cell_type": "markdown",
   "metadata": {},
   "source": [
    "### Exercise 8 Solution:"
   ]
  },
  {
   "cell_type": "code",
   "execution_count": null,
   "metadata": {},
   "outputs": [],
   "source": [
    "# Filtering examples\n",
    "older_than_30 = df[df['Age'] > 30]\n",
    "it_department = df[df['Department'] == 'IT']\n",
    "salary_age_filter = df[(df['Salary'] > 55000) & (df['Age'] < 35)]\n",
    "name_salary = df[['Name', 'Salary']]\n",
    "city_filter = df[df['City'].isin(['New York', 'London'])]\n",
    "loc_example = df.loc[0:2, ['Name', 'Age']]\n",
    "\n",
    "print(\"Employees older than 30:\")\n",
    "print(older_than_30)\n",
    "print(\"\\nIT Department:\")\n",
    "print(it_department)"
   ]
  },
  {
   "cell_type": "markdown",
   "metadata": {},
   "source": [
    "### Exercise 9 Solution:"
   ]
  },
  {
   "cell_type": "code",
   "execution_count": null,
   "metadata": {},
   "outputs": [],
   "source": [
    "# Sorting and grouping\n",
    "sorted_by_age = df.sort_values('Age')\n",
    "sorted_by_salary_desc = df.sort_values('Salary', ascending=False)\n",
    "sorted_multi = df.sort_values(['Department', 'Age'])\n",
    "\n",
    "dept_salary_mean = df.groupby('Department')['Salary'].mean()\n",
    "dept_count = df.groupby('Department').size()\n",
    "dept_age_stats = df.groupby('Department')['Age'].agg(['min', 'max', 'mean'])\n",
    "\n",
    "pivot_table = df.pivot_table(values='Salary', index='Department', columns='City', aggfunc='mean')\n",
    "\n",
    "print(\"Sorted by age:\")\n",
    "print(sorted_by_age)\n",
    "print(\"\\nMean salary by department:\")\n",
    "print(dept_salary_mean)"
   ]
  },
  {
   "cell_type": "markdown",
   "metadata": {},
   "source": [
    "## Additional Resources\n",
    "\n",
    "For more information and practice:\n",
    "- NumPy Documentation: https://numpy.org/doc/\n",
    "- Pandas Documentation: https://pandas.pydata.org/docs/\n",
    "- NumPy User Guide: https://numpy.org/doc/stable/user/index.html\n",
    "- Pandas User Guide: https://pandas.pydata.org/docs/user_guide/index.html\n",
    "- Kaggle Datasets for practice: https://www.kaggle.com/datasets\n",
    "\n",
    "## Tips for Success\n",
    "\n",
    "1. **Practice regularly**: The more you code, the better you get\n",
    "2. **Read documentation**: Official docs are your best friend\n",
    "3. **Work on real projects**: Apply what you learn to actual data\n",
    "4. **Join communities**: Stack Overflow, Reddit's r/learnpython, and pandas/numpy forums\n",
    "5. **Debug systematically**: Use print statements and understand error messages\n",
    "6. **Optimize performance**: Learn about vectorized operations and efficient data structures\n",
    "\n",
    "Happy coding! 🚀"
   ]
  }
 ],
 "metadata": {
  "kernelspec": {
   "display_name": "Python 3",
   "language": "python",
   "name": "python3"
  },
  "language_info": {
   "codemirror_mode": {
    "name": "ipython",
    "version": 3
   },
   "file_extension": ".py",
   "mimetype": "text/x-python",
   "name": "python",
   "nbconvert_exporter": "python",
   "pygments_lexer": "ipython3",
   "version": "3.8.5"
  }
 },
 "nbformat": 4,
 "nbformat_minor": 4
}
