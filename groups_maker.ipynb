{
 "cells": [
  {
   "cell_type": "code",
   "execution_count": 6,
   "metadata": {},
   "outputs": [],
   "source": [
    "import random\n",
    "\n",
    "import pandas as pd"
   ]
  },
  {
   "cell_type": "code",
   "execution_count": 7,
   "metadata": {},
   "outputs": [],
   "source": [
    "alumns_per_group = 2\n",
    "alumns_list_excel_file = \"report_ListaClase.xlsx\""
   ]
  },
  {
   "cell_type": "code",
   "execution_count": 8,
   "metadata": {},
   "outputs": [],
   "source": [
    "def chunks(l, n):\n",
    "    \"\"\"Yield successive n-sized chunks from l.\"\"\"\n",
    "    for i in range(0, len(l), n):\n",
    "        yield l[i:i + n]"
   ]
  },
  {
   "cell_type": "markdown",
   "metadata": {},
   "source": [
    "Pandas operations to acquire, select and clean the alumns names and emails list "
   ]
  },
  {
   "cell_type": "code",
   "execution_count": 9,
   "metadata": {},
   "outputs": [],
   "source": [
    "df = pd.read_excel(alumns_list_excel_file)\n",
    "df.dropna(inplace=True)\n",
    "df.reset_index(inplace=True, drop=True)\n",
    "df.columns = df.iloc[0]\n",
    "df.drop(0, axis=0, inplace=True)\n",
    "df.reset_index(inplace=True, drop=True)\n",
    "alumns_list = list(df[df.columns[2:4]].to_records(index=False))\n",
    "\n",
    "alumns_list = [f\"{alumn[0].split(',')[-1].strip().title()} {alumn[0].split(',')[0].strip().upper()} <{alumn[1]}>\" for alumn in alumns_list]"
   ]
  },
  {
   "cell_type": "code",
   "execution_count": 10,
   "metadata": {},
   "outputs": [
    {
     "name": "stdout",
     "output_type": "stream",
     "text": [
      "Team0 - Pablo TÉLLEZ LÓPEZ <ptellezlopez@al.uloyola.es>, Lum ALIJI <laliji@al.uloyola.es>\n",
      "Team1 - Valon DAUTI <vdauti@al.uloyola.es>, Ron ISMAILI <rismaili@al.uloyola.es>\n",
      "Team2 - Edi SULO <esulo@al.uloyola.es>, Ignacio GRANELL VITE <igranellvite@al.uloyola.es>\n",
      "Team3 - Lenart KURTISHI <lkurtishi@al.uloyola.es>, Javier GARCÍA UTRILLA <jgarciautrilla@al.uloyola.es>\n",
      "Team4 - Alejandro PELÁEZ LIGER <apelaezliger@al.uloyola.es>, Manuel MANSILLA CORDERO <mmansillacordero@al.uloyola.es>\n",
      "Team5 - Silvia MARTIN RETAMAL <smartinretamal@al.uloyola.es>, Pablo CABA HUERTAS <pcabahuertas@al.uloyola.es>\n",
      "Team6 - Alberto GÁMEZ GONZÁLEZ <agamezgonzalez@al.uloyola.es>, Anid ILJAZI <ailjazi@al.uloyola.es>\n",
      "Team7 - Isidoro TORRES DÍAZ <itorresdiaz@al.uloyola.es>, María MILLÁN GORDILLO <mmillangordillo@al.uloyola.es>\n",
      "Team8 - Marcos SALGUERO CARRERO <msalguerocarrero@al.uloyola.es>\n"
     ]
    }
   ],
   "source": [
    "random.shuffle(alumns_list)\n",
    "\n",
    "groups=list(chunks(alumns_list, alumns_per_group))\n",
    "\n",
    "for team_no, group in enumerate(groups):\n",
    "    print(f\"Team{team_no} - {', '.join(group)}\")\n",
    "\n",
    "# !jupyter nbconvert --to script 03-unsupervised-learning.ipynb"
   ]
  }
 ],
 "metadata": {
  "kernelspec": {
   "display_name": "Python 3.10.5 64-bit",
   "language": "python",
   "name": "python3"
  },
  "language_info": {
   "codemirror_mode": {
    "name": "ipython",
    "version": 3
   },
   "file_extension": ".py",
   "mimetype": "text/x-python",
   "name": "python",
   "nbconvert_exporter": "python",
   "pygments_lexer": "ipython3",
   "version": "3.10.5"
  },
  "orig_nbformat": 4,
  "vscode": {
   "interpreter": {
    "hash": "aee8b7b246df8f9039afb4144a1f6fd8d2ca17a180786b69acc140d282b71a49"
   }
  }
 },
 "nbformat": 4,
 "nbformat_minor": 2
}
