{
 "cells": [
  {
   "cell_type": "code",
   "execution_count": null,
   "metadata": {},
   "outputs": [],
   "source": [
    "import random\n",
    "\n",
    "import pandas as pd"
   ]
  },
  {
   "cell_type": "code",
   "execution_count": null,
   "metadata": {},
   "outputs": [],
   "source": [
    "alumns_per_group = 2\n",
    "alumns_list_excel_file = \"report_ListaClase.xls\""
   ]
  },
  {
   "cell_type": "code",
   "execution_count": null,
   "metadata": {},
   "outputs": [],
   "source": [
    "def chunks(l, n):\n",
    "    \"\"\"Yield successive n-sized chunks from l.\"\"\"\n",
    "    for i in range(0, len(l), n):\n",
    "        yield l[i:i + n]"
   ]
  },
  {
   "cell_type": "markdown",
   "metadata": {},
   "source": [
    "Pandas operations to acquire, select and clean the alumns names and emails list "
   ]
  },
  {
   "cell_type": "code",
   "execution_count": null,
   "metadata": {},
   "outputs": [],
   "source": [
    "# df = pd.read_excel(alumns_list_excel_file, engine='xlrd')\n",
    "# df.dropna(inplace=True)\n",
    "# df.reset_index(inplace=True, drop=True)\n",
    "# df.columns = df.iloc[0]\n",
    "# df.drop(0, axis=0, inplace=True)\n",
    "# df.reset_index(inplace=True, drop=True)\n",
    "# alumns_list = list(df[df.columns[2:4]].to_records(index=False))\n",
    "\n",
    "alumns_list = [\n",
    "    (\"ALIAGA MESA, ANDREA\", \"aaliagamesa@al.uloyola.es\"),\n",
    "    (\"BENJUMEA MARTÍNEZ, HUGO\", \"hbenjumeamartinez@al.uloyola.es\"),\n",
    "    (\"BURGUILLOS CUENCA, LIDIA\", \"lburguilloscuenca@al.uloyola.es\"),\n",
    "    (\"CHANFREUT MARTÍN, ENRIQUE\", \"echanfreutmartin@al.uloyola.es\"),\n",
    "    (\"DELPIERRE, JEAN\", \"jdelpierre@al.uloyola.es\"),\n",
    "    (\"FERNANDEZ TRILLO, ALEJANDRO\", \"afernandeztrillo@al.uloyola.es\"),\n",
    "    (\"GARCÍA ALBA, DIEGO\", \"dgarciaalba@al.uloyola.es\"),\n",
    "    (\"GARCÍA PÉREZ, MERCEDES\", \"mgarciaperez@al.uloyola.es\"),\n",
    "    (\"GARCÍA RODRÍGUEZ, GUILLERMO\", \"ggarciarodriguez@al.uloyola.es\"),\n",
    "    (\"GRZYB, KONRAD\", \"kgrzyb@al.uloyola.es\"),\n",
    "    (\"HUMANES MUÑOZ, GONZALO\", \"ghumanesmunoz@al.uloyola.es\"),\n",
    "    (\"MARCO MIRA, ROBERTO\", \"rmarcomira@al.uloyola.es\"),\n",
    "    (\"OLESINSKA, ZUZANNA\", \"zolesinska@al.uloyola.es\"),\n",
    "    (\"PAJOR, ADRIANNA\", \"apajor@al.uloyola.es\"),\n",
    "    (\"PÉREZ OLMO, CRISTÓBAL\", \"cperezolmo@al.uloyola.es\"),\n",
    "    (\"QUIJADA ACEVEDO, MARTA\", \"mquijadaacevedo@al.uloyola.es\"),\n",
    "    (\"RODRÍGUEZ TORIBIO, EMILIO\", \"erodrigueztoribio@al.uloyola.es\"),\n",
    "    (\"RUIZ RODRÍGUEZ, GUILLERMO\", \"gruizrodriguez@al.uloyola.es\"),\n",
    "    (\"SÁNCHEZ MORERA, FERNANDO\", \"fsanchezmorera@al.uloyola.es\"),\n",
    "    (\"SIANES SALDAÑA, ÁLVARO\", \"asianessaldana@al.uloyola.es\"),\n",
    "    (\"VAN KESTEREN VIVANCOS, GUILLERMO FEDERICO\", \"gfvankesteren@al.uloyola.es\"),\n",
    "    (\"VELASCO GALBARRO, ADRIÁN\", \"avelascogalbarro@al.uloyola.es\"),\n",
    "    (\"VELASCO SEVILLA, MARTA\", \"mvelascosevilla@al.uloyola.es\"),\n",
    "    (\"VILLANUEVA MÁRQUEZ, MARÍA DE LAS MERCEDES\", \"mmvillanuevamarquez@al.uloyola.es\")\n",
    "]\n",
    "\n",
    "alumns_list = [\n",
    "    (\"ALIAGA MESA, ANDREA\", \"aaliagamesa@al.uloyola.es\"),\n",
    "    (\"BENJUMEA MARTÍNEZ, HUGO\", \"hbenjumeamartinez@al.uloyola.es\"),\n",
    "    (\"BUGNOTTI, LUIS MARTIN\", \"lmbugnotti@al.uloyola.es\"),\n",
    "    (\"BURGUILLOS CUENCA, LIDIA\", \"lburguilloscuenca@al.uloyola.es\"),\n",
    "    (\"CHANFREUT MARTÍN, ENRIQUE\", \"echanfreutmartin@al.uloyola.es\"),\n",
    "    (\"FERNANDEZ TRILLO, ALEJANDRO\", \"afernandeztrillo@al.uloyola.es\"),\n",
    "    (\"GARCÍA ALBA, DIEGO\", \"dgarciaalba@al.uloyola.es\"),\n",
    "    (\"GARCÍA PÉREZ, MERCEDES\", \"mgarciaperez@al.uloyola.es\"),\n",
    "    (\"GARCÍA RODRÍGUEZ, GUILLERMO\", \"ggarciarodriguez@al.uloyola.es\"),\n",
    "    (\"HUMANES MUÑOZ, GONZALO\", \"ghumanesmunoz@al.uloyola.es\"),\n",
    "    (\"MARCO MIRA, ROBERTO\", \"rmarcomira@al.uloyola.es\"),\n",
    "    (\"MARZOT, MARGHERITA\", \"mmarzot@al.uloyola.es\"),\n",
    "    (\"PÉREZ OLMO, CRISTÓBAL\", \"cperezolmo@al.uloyola.es\"),\n",
    "    (\"QUIJADA ACEVEDO, MARTA\", \"mquijadaacevedo@al.uloyola.es\"),\n",
    "    (\"ROSATO, MARTA\", \"mrosato@al.uloyola.es\"),\n",
    "    (\"RUIZ RODRÍGUEZ, GUILLERMO\", \"gruizrodriguez@al.uloyola.es\"),\n",
    "    (\"SÁNCHEZ MORERA, FERNANDO\", \"fsanchezmorera@al.uloyola.es\"),\n",
    "    (\"SANCHEZ ROMERO, ELENA\", \"esanchezromero@al.uloyola.es\"),\n",
    "    (\"SIANES SALDAÑA, ÁLVARO\", \"asianessaldana@al.uloyola.es\"),\n",
    "    (\"VAN KESTEREN VIVANCOS, GUILLERMO FEDERICO\", \"gfvankesteren@al.uloyola.es\"),\n",
    "    (\"VELASCO GALBARRO, ADRIÁN\", \"avelascogalbarro@al.uloyola.es\"),\n",
    "    (\"VELASCO SEVILLA, MARTA\", \"mvelascosevilla@al.uloyola.es\"),\n",
    "    (\"VETTORE, Giacomo\", \"gvettore@al.uloyola.es\"),\n",
    "    (\"VILLANUEVA MÁRQUEZ, MARÍA DE LAS MERCEDES\", \"mmvillanuevamarquez@al.uloyola.es\")\n",
    "]\n",
    "\n",
    "# Create a DataFrame with separate columns for surname, name, and email in lower case\n",
    "data = [(alumn[0].split(',')[0].strip().lower(), \n",
    "         alumn[0].split(',')[-1].strip().lower(), \n",
    "         alumn[1].lower()) for alumn in alumns_list]\n",
    "\n",
    "df = pd.DataFrame(data, columns=['Surname', 'Name', 'Email'])\n",
    "\n",
    "# Create the formatted columns for the Excel file\n",
    "df['Formatted Name'] = df.apply(lambda row: f\"{row['Surname'].upper()}, {row['Name'].title()}\", axis=1)\n",
    "df['Email'] = df['Email']\n",
    "\n",
    "# Create a new DataFrame with the formatted names and emails for Excel output\n",
    "excel_df = df[['Formatted Name', 'Email']]\n",
    "\n",
    "# Save to Excel with the required format\n",
    "# excel_df.to_excel(\"alumns_list.xlsx\", index=False, header=[\"SURNAME, Name\", \"email\"])\n",
    "\n",
    "# Create a list of formatted names for the email\n",
    "formatted_names_list = [f\"{row['Surname'].upper()}, {row['Name'].title()} <{row['Email']}>\" for index, row in df.iterrows()]\n",
    "\n",
    "# Print the formatted names for the email\n",
    "print(\"\\n\".join(formatted_names_list))"
   ]
  },
  {
   "cell_type": "code",
   "execution_count": null,
   "metadata": {},
   "outputs": [],
   "source": [
    "random.shuffle(formatted_names_list)\n",
    "\n",
    "groups=list(chunks(formatted_names_list, alumns_per_group))\n",
    "\n",
    "for team_no, group in enumerate(groups):\n",
    "    print(f\"Team{team_no} - {', '.join(group)}\")\n",
    "\n",
    "# !jupyter nbconvert --to script 03-unsupervised-learning.ipynb"
   ]
  },
  {
   "cell_type": "code",
   "execution_count": null,
   "metadata": {},
   "outputs": [],
   "source": [
    "import random\n",
    "\n",
    "def assign_shuffled_subsets(elements, num_assignments=2):\n",
    "    if len(elements) <= num_assignments:\n",
    "        raise ValueError(f\"The list should contain more than {num_assignments} elements\")\n",
    "    \n",
    "    assignments = {element: [] for element in elements}\n",
    "    assignment_counts = {element: 0 for element in elements}\n",
    "\n",
    "    for element in elements:\n",
    "        potential_assignments = [e for e in elements if e != element and assignment_counts[e] < num_assignments and e not in assignments[element]]\n",
    "        if len(potential_assignments) < num_assignments:\n",
    "            raise ValueError(\"Cannot assign the required number of unique elements\")\n",
    "\n",
    "        assigned = random.sample(potential_assignments, num_assignments)\n",
    "        assignments[element].extend(assigned)\n",
    "        for a in assigned:\n",
    "            assignment_counts[a] += 1\n",
    "\n",
    "    return assignments\n",
    "\n",
    "elements = [\"Team1\", \"Team2\", \"Team3\", \"Team4\", \"Team5\", \"Team6\", \"Team7\", \"Team8\", \"Team9\", \"Team10\", \"Team11\"]\n",
    "num_assignments = 1\n",
    "\n",
    "print(assign_shuffled_subsets(elements, num_assignments))\n"
   ]
  }
 ],
 "metadata": {
  "kernelspec": {
   "display_name": "data-and-image-analytics-ut4sJMav-py3.12",
   "language": "python",
   "name": "python3"
  },
  "language_info": {
   "codemirror_mode": {
    "name": "ipython",
    "version": 3
   },
   "file_extension": ".py",
   "mimetype": "text/x-python",
   "name": "python",
   "nbconvert_exporter": "python",
   "pygments_lexer": "ipython3",
   "version": "3.12.6"
  },
  "orig_nbformat": 4
 },
 "nbformat": 4,
 "nbformat_minor": 2
}
