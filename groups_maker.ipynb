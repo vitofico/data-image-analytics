{
 "cells": [
  {
   "cell_type": "code",
   "execution_count": null,
   "metadata": {},
   "outputs": [],
   "source": [
    "import random\n",
    "\n",
    "import pandas as pd"
   ]
  },
  {
   "cell_type": "code",
   "execution_count": null,
   "metadata": {},
   "outputs": [],
   "source": [
    "alumns_per_group = 3\n",
    "alumns_list_excel_file = \"report_ListaClase.xls\""
   ]
  },
  {
   "cell_type": "code",
   "execution_count": null,
   "metadata": {},
   "outputs": [],
   "source": [
    "def chunks(l, n):\n",
    "    \"\"\"Yield successive n-sized chunks from l.\"\"\"\n",
    "    for i in range(0, len(l), n):\n",
    "        yield l[i:i + n]"
   ]
  },
  {
   "cell_type": "markdown",
   "metadata": {},
   "source": [
    "Pandas operations to acquire, select and clean the alumns names and emails list "
   ]
  },
  {
   "cell_type": "code",
   "execution_count": null,
   "metadata": {},
   "outputs": [],
   "source": [
    "df = pd.read_excel(alumns_list_excel_file, engine='xlrd')\n",
    "df.dropna(inplace=True)\n",
    "df.reset_index(inplace=True, drop=True)\n",
    "df.columns = df.iloc[0]\n",
    "df.drop(0, axis=0, inplace=True)\n",
    "df.reset_index(inplace=True, drop=True)\n",
    "alumns_list = list(df[df.columns[2:4]].to_records(index=False))\n",
    "\n",
    "alumns_list = [f\"{alumn[0].split(',')[-1].strip().title()} {alumn[0].split(',')[0].strip().upper()} <{alumn[1]}>\" for alumn in alumns_list]"
   ]
  },
  {
   "cell_type": "code",
   "execution_count": null,
   "metadata": {},
   "outputs": [],
   "source": [
    "random.shuffle(alumns_list)\n",
    "\n",
    "groups=list(chunks(alumns_list, alumns_per_group))\n",
    "\n",
    "for team_no, group in enumerate(groups):\n",
    "    print(f\"Team{team_no} - {', '.join(group)}\")\n",
    "\n",
    "# !jupyter nbconvert --to script 03-unsupervised-learning.ipynb"
   ]
  },
  {
   "cell_type": "code",
   "execution_count": null,
   "metadata": {},
   "outputs": [],
   "source": [
    "import random\n",
    "\n",
    "def assign_shuffled_subsets(elements, num_assignments=2):\n",
    "    if len(elements) <= num_assignments:\n",
    "        raise ValueError(f\"The list should contain more than {num_assignments} elements\")\n",
    "    \n",
    "    assignments = {element: [] for element in elements}\n",
    "    assignment_counts = {element: 0 for element in elements}\n",
    "\n",
    "    for element in elements:\n",
    "        potential_assignments = [e for e in elements if e != element and assignment_counts[e] < num_assignments and e not in assignments[element]]\n",
    "        if len(potential_assignments) < num_assignments:\n",
    "            raise ValueError(\"Cannot assign the required number of unique elements\")\n",
    "\n",
    "        assigned = random.sample(potential_assignments, num_assignments)\n",
    "        assignments[element].extend(assigned)\n",
    "        for a in assigned:\n",
    "            assignment_counts[a] += 1\n",
    "\n",
    "    return assignments\n",
    "\n",
    "elements = [\"Team1\", \"Team2\", \"Team3\", \"Team4\", \"Team5\", \"Team6\"]\n",
    "num_assignments = 2\n",
    "\n",
    "print(assign_shuffled_subsets(elements, num_assignments))\n"
   ]
  }
 ],
 "metadata": {
  "kernelspec": {
   "display_name": "Python 3.10.5 64-bit",
   "language": "python",
   "name": "python3"
  },
  "language_info": {
   "codemirror_mode": {
    "name": "ipython",
    "version": 3
   },
   "file_extension": ".py",
   "mimetype": "text/x-python",
   "name": "python",
   "nbconvert_exporter": "python",
   "pygments_lexer": "ipython3",
   "version": "3.10.5"
  },
  "orig_nbformat": 4,
  "vscode": {
   "interpreter": {
    "hash": "aee8b7b246df8f9039afb4144a1f6fd8d2ca17a180786b69acc140d282b71a49"
   }
  }
 },
 "nbformat": 4,
 "nbformat_minor": 2
}
